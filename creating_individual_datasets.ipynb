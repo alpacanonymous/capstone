{
 "cells": [
  {
   "cell_type": "markdown",
   "metadata": {},
   "source": [
    "# <span style=\"font-size:1.2em;\"> Creating Datasets for Four Major Air Pollutants 2000 - 2021\n",
    "Author: Angela Kim"
   ]
  },
  {
   "cell_type": "markdown",
   "metadata": {},
   "source": [
    "---"
   ]
  },
  {
   "cell_type": "markdown",
   "metadata": {},
   "source": [
    "# Contents\n",
    "<l></l>\n",
    "\n",
    "<span style=\"font-size:1.2em;\">\n",
    "\n",
    "- <a href=\"#Overview\">Overview</a>\n",
    "    \n",
    "- <a href=\"#Ozone\">Ozone</a>\n",
    "    \n",
    "- <a href=\"#Carbon Monoxide\">Carbon Monoxide</a>\n",
    "    \n",
    "- <a href=\"#Nitrogen Dioxide\">Nitrogen Dioxide</a>\n",
    "\n",
    "- <a href=\"#Sulfur Dioxide\">Sulfur Dioxide</a>\n",
    "\n",
    "- <a href=\"#Sources\">Sources</a>"
   ]
  },
  {
   "cell_type": "markdown",
   "metadata": {},
   "source": [
    "# <a id=\"#Overview\">Overview</a>"
   ]
  },
  {
   "cell_type": "markdown",
   "metadata": {},
   "source": [
    "For this project, I originally planned on using a dataset from [Kaggle](https://www.kaggle.com/sogun3/uspollution) on US Air Quality from 2000-2016 and then tacking on more recent data from 2017-2021. However, as I began to explore the data, I was incredibly frustrated with how poorly the data had been put together. I did my best to clean it while maintaining the integrity of the data but ultimately decided that it would probably end up being less frustrating, less time-consuming, and much cleaner if I started at the source.\n",
    "\n",
    "The [US EPA](https://www.epa.gov/) has open-source pre-generated data files in `.csv` format on the four major air pollutants I'm interested in for this project: ozone ($O_{3}$), carbon monoxide ($CO$), nitrogen dioxide ($NO_{2}$), and sulfur dioxide ($SO_{2}$).\n",
    "\n",
    "I downloaded a total of 88 `.csv` [daily summary data files](https://aqs.epa.gov/aqsweb/airdata/download_files.html#Daily) for the years 2000-2021 and concatenated them into their respective datasets.\n",
    "\n",
    "Finally, I exported all four datasets as `.csv` files.\n",
    "\n",
    "The resulting `.csv` files were too large to upload onto github, but you can download all the files I used from the EPA site and run this notebook to get the compiled datasets."
   ]
  },
  {
   "cell_type": "markdown",
   "metadata": {},
   "source": [
    "**Please consider:**\n",
    "1. Take note of where you stored the downloaded data and adjusting the code accordingly before running the notebook.\n",
    "2. Make sure to uncomment the export lines if you want the datasets as `.csv`."
   ]
  },
  {
   "cell_type": "code",
   "execution_count": 1,
   "metadata": {
    "ExecuteTime": {
     "end_time": "2022-01-18T23:00:52.256916Z",
     "start_time": "2022-01-18T23:00:51.384208Z"
    }
   },
   "outputs": [],
   "source": [
    "# Import libraries\n",
    "import pandas as pd\n",
    "import numpy as np"
   ]
  },
  {
   "cell_type": "markdown",
   "metadata": {},
   "source": [
    "# <a id=\"#Ozone\">Ozone</a>"
   ]
  },
  {
   "cell_type": "code",
   "execution_count": 2,
   "metadata": {
    "ExecuteTime": {
     "end_time": "2022-01-18T23:04:29.510931Z",
     "start_time": "2022-01-18T23:00:52.260296Z"
    }
   },
   "outputs": [
    {
     "name": "stderr",
     "output_type": "stream",
     "text": [
      "/opt/anaconda3/envs/learn-env/lib/python3.8/site-packages/IPython/core/interactiveshell.py:3145: DtypeWarning: Columns (0,27) have mixed types.Specify dtype option on import or set low_memory=False.\n",
      "  has_raised = await self.run_ast_nodes(code_ast.body, cell_name,\n",
      "/opt/anaconda3/envs/learn-env/lib/python3.8/site-packages/IPython/core/interactiveshell.py:3145: DtypeWarning: Columns (0) have mixed types.Specify dtype option on import or set low_memory=False.\n",
      "  has_raised = await self.run_ast_nodes(code_ast.body, cell_name,\n",
      "/opt/anaconda3/envs/learn-env/lib/python3.8/site-packages/IPython/core/interactiveshell.py:3145: DtypeWarning: Columns (27) have mixed types.Specify dtype option on import or set low_memory=False.\n",
      "  has_raised = await self.run_ast_nodes(code_ast.body, cell_name,\n"
     ]
    }
   ],
   "source": [
    "# Import Ozone datasets\n",
    "O3_2000 = pd.read_csv('data/dailyO3/daily_44201_2000.csv')\n",
    "O3_2001 = pd.read_csv('data/dailyO3/daily_44201_2001.csv')\n",
    "O3_2002 = pd.read_csv('data/dailyO3/daily_44201_2002.csv')\n",
    "O3_2003 = pd.read_csv('data/dailyO3/daily_44201_2003.csv')\n",
    "O3_2004 = pd.read_csv('data/dailyO3/daily_44201_2004.csv')\n",
    "O3_2005 = pd.read_csv('data/dailyO3/daily_44201_2005.csv')\n",
    "O3_2006 = pd.read_csv('data/dailyO3/daily_44201_2006.csv')\n",
    "O3_2007 = pd.read_csv('data/dailyO3/daily_44201_2007.csv')\n",
    "O3_2008 = pd.read_csv('data/dailyO3/daily_44201_2008.csv')\n",
    "O3_2009 = pd.read_csv('data/dailyO3/daily_44201_2009.csv')\n",
    "O3_2010 = pd.read_csv('data/dailyO3/daily_44201_2010.csv')\n",
    "O3_2011 = pd.read_csv('data/dailyO3/daily_44201_2011.csv')\n",
    "O3_2012 = pd.read_csv('data/dailyO3/daily_44201_2012.csv')\n",
    "O3_2013 = pd.read_csv('data/dailyO3/daily_44201_2013.csv')\n",
    "O3_2014 = pd.read_csv('data/dailyO3/daily_44201_2014.csv')\n",
    "O3_2015 = pd.read_csv('data/dailyO3/daily_44201_2015.csv')\n",
    "O3_2016 = pd.read_csv('data/dailyO3/daily_44201_2016.csv')\n",
    "O3_2017 = pd.read_csv('data/dailyO3/daily_44201_2017.csv')\n",
    "O3_2018 = pd.read_csv('data/dailyO3/daily_44201_2018.csv')\n",
    "O3_2019 = pd.read_csv('data/dailyO3/daily_44201_2019.csv')\n",
    "O3_2020 = pd.read_csv('data/dailyO3/daily_44201_2020.csv')\n",
    "O3_2021 = pd.read_csv('data/dailyO3/daily_44201_2021.csv')\n",
    "\n",
    "\n",
    "# Concatenate datasets\n",
    "O3_all = [O3_2000, O3_2001, O3_2002, O3_2003, O3_2004, O3_2005, O3_2006, O3_2007, O3_2008, O3_2009, O3_2010, \n",
    "          O3_2011, O3_2012, O3_2013, O3_2014, O3_2015, O3_2016, O3_2017, O3_2018, O3_2019, O3_2020, O3_2021]\n",
    "\n",
    "O3 = pd.concat(O3_all, ignore_index=True)\n",
    "\n",
    "\n",
    "# Export to csv\n",
    "# O3.to_csv('O3.csv', index=False)"
   ]
  },
  {
   "cell_type": "markdown",
   "metadata": {
    "ExecuteTime": {
     "end_time": "2022-01-18T22:12:43.711053Z",
     "start_time": "2022-01-18T22:10:24.802435Z"
    }
   },
   "source": [
    "# <a id=\"Carbon Monoxide\">Carbon Monoxide</a>"
   ]
  },
  {
   "cell_type": "code",
   "execution_count": 3,
   "metadata": {
    "ExecuteTime": {
     "end_time": "2022-01-18T23:06:42.680973Z",
     "start_time": "2022-01-18T23:04:29.565835Z"
    }
   },
   "outputs": [],
   "source": [
    "# Import Carbon Monoxide datasets\n",
    "CO_2000 = pd.read_csv('data/dailyCO/daily_42101_2000.csv')\n",
    "CO_2001 = pd.read_csv('data/dailyCO/daily_42101_2001.csv')\n",
    "CO_2002 = pd.read_csv('data/dailyCO/daily_42101_2002.csv')\n",
    "CO_2003 = pd.read_csv('data/dailyCO/daily_42101_2003.csv')\n",
    "CO_2004 = pd.read_csv('data/dailyCO/daily_42101_2004.csv')\n",
    "CO_2005 = pd.read_csv('data/dailyCO/daily_42101_2005.csv')\n",
    "CO_2006 = pd.read_csv('data/dailyCO/daily_42101_2006.csv')\n",
    "CO_2007 = pd.read_csv('data/dailyCO/daily_42101_2007.csv')\n",
    "CO_2008 = pd.read_csv('data/dailyCO/daily_42101_2008.csv')\n",
    "CO_2009 = pd.read_csv('data/dailyCO/daily_42101_2009.csv')\n",
    "CO_2010 = pd.read_csv('data/dailyCO/daily_42101_2010.csv')\n",
    "CO_2011 = pd.read_csv('data/dailyCO/daily_42101_2011.csv')\n",
    "CO_2012 = pd.read_csv('data/dailyCO/daily_42101_2012.csv')\n",
    "CO_2013 = pd.read_csv('data/dailyCO/daily_42101_2013.csv')\n",
    "CO_2014 = pd.read_csv('data/dailyCO/daily_42101_2014.csv')\n",
    "CO_2015 = pd.read_csv('data/dailyCO/daily_42101_2015.csv')\n",
    "CO_2016 = pd.read_csv('data/dailyCO/daily_42101_2016.csv')\n",
    "CO_2017 = pd.read_csv('data/dailyCO/daily_42101_2017.csv')\n",
    "CO_2018 = pd.read_csv('data/dailyCO/daily_42101_2018.csv')\n",
    "CO_2019 = pd.read_csv('data/dailyCO/daily_42101_2019.csv')\n",
    "CO_2020 = pd.read_csv('data/dailyCO/daily_42101_2020.csv')\n",
    "CO_2021 = pd.read_csv('data/dailyCO/daily_42101_2021.csv')\n",
    "\n",
    "\n",
    "# Concatenate datasets\n",
    "CO_all = [CO_2000, CO_2001, CO_2002, CO_2003, CO_2004, CO_2005, CO_2006, CO_2007, CO_2008, CO_2009, CO_2010,\n",
    "          CO_2011, CO_2012, CO_2013, CO_2014, CO_2015, CO_2016, CO_2017, CO_2018, CO_2019, CO_2020, CO_2021]\n",
    "\n",
    "CO = pd.concat(CO_all, ignore_index=True)\n",
    "\n",
    "\n",
    "# Export to csv\n",
    "# CO.to_csv('CO.csv', index=False)"
   ]
  },
  {
   "cell_type": "markdown",
   "metadata": {},
   "source": [
    "# <a id=\"Nitrogen Dioxide\">Nitrogen Dioxide</a>"
   ]
  },
  {
   "cell_type": "code",
   "execution_count": 5,
   "metadata": {
    "ExecuteTime": {
     "end_time": "2022-01-18T23:11:20.446600Z",
     "start_time": "2022-01-18T23:09:46.509287Z"
    }
   },
   "outputs": [],
   "source": [
    "# Import Nitrogen Dioxide datasets\n",
    "NO2_2000 = pd.read_csv('data/dailyNO2/daily_42602_2000.csv')\n",
    "NO2_2001 = pd.read_csv('data/dailyNO2/daily_42602_2001.csv')\n",
    "NO2_2002 = pd.read_csv('data/dailyNO2/daily_42602_2002.csv')\n",
    "NO2_2003 = pd.read_csv('data/dailyNO2/daily_42602_2003.csv')\n",
    "NO2_2004 = pd.read_csv('data/dailyNO2/daily_42602_2004.csv')\n",
    "NO2_2005 = pd.read_csv('data/dailyNO2/daily_42602_2005.csv')\n",
    "NO2_2006 = pd.read_csv('data/dailyNO2/daily_42602_2006.csv')\n",
    "NO2_2007 = pd.read_csv('data/dailyNO2/daily_42602_2007.csv')\n",
    "NO2_2008 = pd.read_csv('data/dailyNO2/daily_42602_2008.csv')\n",
    "NO2_2009 = pd.read_csv('data/dailyNO2/daily_42602_2009.csv')\n",
    "NO2_2010 = pd.read_csv('data/dailyNO2/daily_42602_2010.csv')\n",
    "NO2_2011 = pd.read_csv('data/dailyNO2/daily_42602_2011.csv')\n",
    "NO2_2012 = pd.read_csv('data/dailyNO2/daily_42602_2012.csv')\n",
    "NO2_2013 = pd.read_csv('data/dailyNO2/daily_42602_2013.csv')\n",
    "NO2_2014 = pd.read_csv('data/dailyNO2/daily_42602_2014.csv')\n",
    "NO2_2015 = pd.read_csv('data/dailyNO2/daily_42602_2015.csv')\n",
    "NO2_2016 = pd.read_csv('data/dailyNO2/daily_42602_2016.csv')\n",
    "NO2_2017 = pd.read_csv('data/dailyNO2/daily_42602_2017.csv')\n",
    "NO2_2018 = pd.read_csv('data/dailyNO2/daily_42602_2018.csv')\n",
    "NO2_2019 = pd.read_csv('data/dailyNO2/daily_42602_2019.csv')\n",
    "NO2_2020 = pd.read_csv('data/dailyNO2/daily_42602_2020.csv')\n",
    "NO2_2021 = pd.read_csv('data/dailyNO2/daily_42602_2021.csv')\n",
    "\n",
    "\n",
    "# Concatenate datasets\n",
    "NO2_all = [NO2_2000, NO2_2001, NO2_2002, NO2_2003, NO2_2004, NO2_2005, NO2_2006, NO2_2007, NO2_2008, NO2_2009, \n",
    "           NO2_2010, NO2_2011, NO2_2012, NO2_2013, NO2_2014, NO2_2015, NO2_2016, NO2_2017, NO2_2018, NO2_2019, \n",
    "           NO2_2020, NO2_2021]\n",
    "\n",
    "NO2 = pd.concat(NO2_all, ignore_index=True)\n",
    "\n",
    "\n",
    "# Export to csv\n",
    "# NO2.to_csv('NO2.csv', index=False)"
   ]
  },
  {
   "cell_type": "markdown",
   "metadata": {},
   "source": [
    "# <a id=\"Sulfur Dioxide\">Sulfur Dioxide</a>"
   ]
  },
  {
   "cell_type": "code",
   "execution_count": 4,
   "metadata": {
    "ExecuteTime": {
     "end_time": "2022-01-18T23:09:46.500861Z",
     "start_time": "2022-01-18T23:06:42.688772Z"
    }
   },
   "outputs": [],
   "source": [
    "# Import Sulfur Dioxide datasets\n",
    "SO2_2000 = pd.read_csv('data/dailySO2/daily_42401_2000.csv')\n",
    "SO2_2001 = pd.read_csv('data/dailySO2/daily_42401_2001.csv')\n",
    "SO2_2002 = pd.read_csv('data/dailySO2/daily_42401_2002.csv')\n",
    "SO2_2003 = pd.read_csv('data/dailySO2/daily_42401_2003.csv')\n",
    "SO2_2004 = pd.read_csv('data/dailySO2/daily_42401_2004.csv')\n",
    "SO2_2005 = pd.read_csv('data/dailySO2/daily_42401_2005.csv')\n",
    "SO2_2006 = pd.read_csv('data/dailySO2/daily_42401_2006.csv')\n",
    "SO2_2007 = pd.read_csv('data/dailySO2/daily_42401_2007.csv')\n",
    "SO2_2008 = pd.read_csv('data/dailySO2/daily_42401_2008.csv')\n",
    "SO2_2009 = pd.read_csv('data/dailySO2/daily_42401_2009.csv')\n",
    "SO2_2010 = pd.read_csv('data/dailySO2/daily_42401_2010.csv')\n",
    "SO2_2011 = pd.read_csv('data/dailySO2/daily_42401_2011.csv')\n",
    "SO2_2012 = pd.read_csv('data/dailySO2/daily_42401_2012.csv')\n",
    "SO2_2013 = pd.read_csv('data/dailySO2/daily_42401_2013.csv')\n",
    "SO2_2014 = pd.read_csv('data/dailySO2/daily_42401_2014.csv')\n",
    "SO2_2015 = pd.read_csv('data/dailySO2/daily_42401_2015.csv')\n",
    "SO2_2016 = pd.read_csv('data/dailySO2/daily_42401_2016.csv')\n",
    "SO2_2017 = pd.read_csv('data/dailySO2/daily_42401_2017.csv')\n",
    "SO2_2018 = pd.read_csv('data/dailySO2/daily_42401_2018.csv')\n",
    "SO2_2019 = pd.read_csv('data/dailySO2/daily_42401_2019.csv')\n",
    "SO2_2020 = pd.read_csv('data/dailySO2/daily_42401_2020.csv')\n",
    "SO2_2021 = pd.read_csv('data/dailySO2/daily_42401_2021.csv')\n",
    "\n",
    "\n",
    "# Concatenate datasets\n",
    "SO2_all = [SO2_2000, SO2_2001, SO2_2002, SO2_2003, SO2_2004, SO2_2005, SO2_2006, SO2_2007, SO2_2008, SO2_2009, \n",
    "           SO2_2010, SO2_2011, SO2_2012, SO2_2013, SO2_2014, SO2_2015, SO2_2016, SO2_2017, SO2_2018, SO2_2019, \n",
    "           SO2_2020, SO2_2021]\n",
    "\n",
    "SO2 = pd.concat(SO2_all, ignore_index=True)\n",
    "\n",
    "\n",
    "# Export to csv\n",
    "# SO2.to_csv('SO2.csv', index=False)"
   ]
  },
  {
   "cell_type": "markdown",
   "metadata": {},
   "source": [
    "# <a id=\"#Sources\">Sources</a>"
   ]
  },
  {
   "cell_type": "markdown",
   "metadata": {},
   "source": [
    "- [EPA AirData Daily Summary Data](https://aqs.epa.gov/aqsweb/airdata/download_files.html#Daily)"
   ]
  }
 ],
 "metadata": {
  "kernelspec": {
   "display_name": "Python (learn-env)",
   "language": "python",
   "name": "learn-env"
  },
  "language_info": {
   "codemirror_mode": {
    "name": "ipython",
    "version": 3
   },
   "file_extension": ".py",
   "mimetype": "text/x-python",
   "name": "python",
   "nbconvert_exporter": "python",
   "pygments_lexer": "ipython3",
   "version": "3.8.5"
  }
 },
 "nbformat": 4,
 "nbformat_minor": 4
}
