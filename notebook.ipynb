{
 "cells": [
  {
   "cell_type": "markdown",
   "metadata": {
    "heading_collapsed": true
   },
   "source": [
    "# <span style=\"font-size:1.5em;\"> Forecasting Air Quality in New York City\n",
    "Author: Angela Kim"
   ]
  },
  {
   "cell_type": "markdown",
   "metadata": {
    "hidden": true
   },
   "source": [
    "---"
   ]
  },
  {
   "cell_type": "markdown",
   "metadata": {
    "heading_collapsed": true
   },
   "source": [
    "# <span style=\"font-size:1.2em;\"> Contents"
   ]
  },
  {
   "cell_type": "markdown",
   "metadata": {
    "ExecuteTime": {
     "end_time": "2022-01-27T13:44:05.385931Z",
     "start_time": "2022-01-27T13:44:05.287702Z"
    },
    "hidden": true
   },
   "source": [
    "<span style=\"font-size:1.2em;\">\n",
    "\n",
    "- <a href=\"#Overview\">Overview</a>\n",
    "    \n",
    "- <a href=\"#Business Problem\">Business Problem</a>\n",
    "    \n",
    "- <a href=\"#Imports\">Library Imports & Functions</a>\n",
    "\n",
    "- <a href=\"#Data Preparation & Analysis\">Data Preparation & Analysis</a>\n",
    "    \n",
    "- <a href=\"#Modeling\">Modeling</a>\n",
    "\n",
    "- <a href=\"#Visualizations\">Visualizations</a>\n",
    "    \n",
    "- <a href=\"#Conclusion\">Conclusion</a>\n",
    "\n",
    "- <a href=\"#Next Steps\">Next Steps</a>"
   ]
  },
  {
   "cell_type": "markdown",
   "metadata": {
    "hidden": true
   },
   "source": [
    "---"
   ]
  },
  {
   "cell_type": "markdown",
   "metadata": {
    "heading_collapsed": true
   },
   "source": [
    "# <span style=\"font-size:1.2em;\"> <a id=\"Overview\">Overview</a>"
   ]
  },
  {
   "cell_type": "markdown",
   "metadata": {
    "hidden": true
   },
   "source": [
    "> This project analyzes air pollution data of four major gas pollutants--ground-level ozone (O₃), carbon monoxide (CO), nitrogen dioxide (NO₂), and sulfur dioxide (SO₂)--and creates time series models to forecast future air quality in New York City.\n",
    ">\n",
    "> Note: For ease of reference, I will use O3, CO, NO2, and SO2 when naming the pollutants, knowing full well that technically they are not accurate chemical formulas."
   ]
  },
  {
   "cell_type": "markdown",
   "metadata": {
    "heading_collapsed": true
   },
   "source": [
    "# <span style=\"font-size:1.2em;\"> <a id=\"Business Problem\">Business Problem</a>"
   ]
  },
  {
   "cell_type": "markdown",
   "metadata": {
    "hidden": true
   },
   "source": [
    "> Air pollution is a huge problem for everyone. According to the Environmental Defense Fund (EDF), air pollution is currently the biggest environmental risk of premature death. It is highly linked to cardiovascular and respiratory disease and worsens symptoms of susceptible populations.\n",
    ">\n",
    "> Not only is air pollution bad for public health, it’s also bad for the economy. Air pollution costs the US roughly 5% of its annual GDP in damages ($790 billion in 2014). The highest costs come from premature deaths. A study by Anthony Heyes, Matthew Neidell, and Soodeh Saberian even suggests that air pollution affects the stock market.\n",
    ">\n",
    "> Air pollution also exacerbates the race-class divide. Racial and ethnic minorities are exposed to higher levels of air pollution, especially in highly segregated neighborhoods. Urban areas are more polluted than rural areas, which is where there are denser populations of minorities.\n",
    ">\n",
    "> Decreasing air pollution would benefit public health and the economy and contribute to a more equitable society."
   ]
  },
  {
   "cell_type": "markdown",
   "metadata": {},
   "source": [
    "# <span style=\"font-size:1.2em;\"> <a id=\"Imports\">Library Imports & Functions</a>"
   ]
  },
  {
   "cell_type": "code",
   "execution_count": 1,
   "metadata": {
    "ExecuteTime": {
     "end_time": "2022-01-27T15:33:46.467655Z",
     "start_time": "2022-01-27T15:33:45.015041Z"
    }
   },
   "outputs": [],
   "source": [
    "# Import libraries\n",
    "import pandas as pd\n",
    "import numpy as np\n",
    "import itertools\n",
    "import warnings\n",
    "warnings.filterwarnings('ignore')\n",
    "\n",
    "import matplotlib.pyplot as plt\n",
    "import seaborn as sns\n",
    "%matplotlib inline\n",
    "\n",
    "from math import sqrt\n",
    "from sklearn.metrics import mean_squared_error as mse\n",
    "from sklearn.metrics import mean_absolute_error as mae\n",
    "\n",
    "from statsmodels.tsa.stattools import adfuller, acf, pacf\n",
    "from statsmodels.tsa.arima_process import ArmaProcess\n",
    "from statsmodels.tsa.arima_model import ARMA, ARIMA, ARIMAResults\n",
    "from statsmodels.tsa.statespace.sarimax import SARIMAX\n",
    "from statsmodels.tsa.seasonal import seasonal_decompose\n",
    "from statsmodels.graphics.tsaplots import plot_acf, plot_pacf"
   ]
  },
  {
   "cell_type": "code",
   "execution_count": 3,
   "metadata": {
    "ExecuteTime": {
     "end_time": "2022-01-27T15:33:46.732136Z",
     "start_time": "2022-01-27T15:33:46.703960Z"
    }
   },
   "outputs": [],
   "source": [
    "# Functions for EDA\n",
    "\n",
    "def stationarity_check(df, pollutant):\n",
    "    \"\"\"\n",
    "    Checks stationarity of time series with rolling statistics and Dickey-Fuller test.\n",
    "    \"\"\"\n",
    "    rmean = df.rolling(window=12, center=False).mean()\n",
    "    rstd = df.rolling(window=12, center=False).std()\n",
    "    dftest = adfuller(df.iloc[:,0])\n",
    "    \n",
    "    # Plot rolling statistics against original\n",
    "    fig = plt.figure(figsize=(20,4))\n",
    "    plt.plot(df, color='gray', label='Original')\n",
    "    plt.plot(rmean, color='blue', label='Rolling Mean')\n",
    "    plt.plot(rstd, color='magenta', label='Rolling Std')\n",
    "    plt.title(f'Rolling Mean & Standard Deviation ({pollutant})')\n",
    "    plt.legend(loc='best')\n",
    "    plt.show(block=False)\n",
    "    \n",
    "    # Print Dickey-Fuller test results\n",
    "    print('Results of Dickey-Fuller Test: \\n')\n",
    "\n",
    "    dfoutput = pd.Series(dftest[0:4],\n",
    "                         index=['Test Statistic', 'p-value', '# of Lags Used', '# of Observations Used'])\n",
    "    for key, value in dftest[4].items():\n",
    "        dfoutput['Critical Value (%s)'%key] = value\n",
    "    print(dfoutput)\n",
    "    \n",
    "    return None\n",
    "\n",
    "\n",
    "\"\"\"\"\"\"\n",
    "\n",
    "\n",
    "def decomposition_plot(df):\n",
    "        \"\"\"\n",
    "        Takes time series dataframe and decomposes it in order to observe trend, seasonality, and residuals.\n",
    "        \"\"\"\n",
    "        decomp = seasonal_decompose(df, period=8, model='additive')\n",
    "        trend = decomp.trend\n",
    "        seasonal = decomp.seasonal\n",
    "        residual = decomp.resid\n",
    "        plt.figure(figsize=(10,7))\n",
    "        plt.subplot(511)\n",
    "        plt.plot(df, label='Observed', color='red')\n",
    "        plt.legend(loc='best')\n",
    "        plt.subplot(512)\n",
    "        plt.plot(trend, label='Trend', color='blue')\n",
    "        plt.legend(loc='best')\n",
    "        plt.subplot(513)\n",
    "        plt.plot(seasonal, label='Seasonality', color='orange')\n",
    "        plt.legend(loc='best')\n",
    "        plt.subplot(514)\n",
    "        plt.plot(residual, label='Residuals', color='black')\n",
    "        plt.legend(loc='best')\n",
    "        plt.tight_layout()\n",
    "        \n",
    "        return decomp"
   ]
  },
  {
   "cell_type": "code",
   "execution_count": 4,
   "metadata": {
    "ExecuteTime": {
     "end_time": "2022-01-27T15:33:48.171652Z",
     "start_time": "2022-01-27T15:33:48.161573Z"
    }
   },
   "outputs": [],
   "source": [
    "# Functions for time series forecast metrics\n",
    "\n",
    "def rmse(y_true, y_pred):\n",
    "    \"\"\"\n",
    "    Computes Root Mean Squared Error (RMSE)\n",
    "    \"\"\"\n",
    "    return mse(y_true, y_pred, squared=False) # Can't be bothered to specify \"squared=False\" each time\n",
    "\n",
    "\n",
    "\n",
    "def mase(y_true, y_pred, y_train):\n",
    "    \"\"\"\n",
    "    Computes Mean Absolute Scaled Error for univariate time series forecasts.\n",
    "    *See \"Another look at measures of forecast accuracy\" | Rob J. Hyndman, Anne B. Koehler (2006)\n",
    "    \"\"\"\n",
    "    e_t = y_true - y_pred\n",
    "    scale = mean_absolute_error(y_train[1:], y_train[:-1])\n",
    "    \n",
    "    return np.mean(np.abs(e_t/scale))"
   ]
  },
  {
   "cell_type": "code",
   "execution_count": 5,
   "metadata": {
    "ExecuteTime": {
     "end_time": "2022-01-27T15:33:48.560642Z",
     "start_time": "2022-01-27T15:33:48.545813Z"
    }
   },
   "outputs": [],
   "source": [
    "def ARMA_model(df, pollutant):\n",
    "\n",
    "    y = df[f'{pollutant} AQI']\n",
    "    aic_scores = []\n",
    "    train_size = [len(y),500,250,100,50]\n",
    "\n",
    "    for p in range(6):\n",
    "        for q in range(6):\n",
    "            for size in train_size:\n",
    "                model = ARIMA(endog = y.tail(size), order =(p,0,q))\n",
    "                fitmodel = model.fit()\n",
    "                rmse = np.sqrt(mse(fitmodel))\n",
    "                aic_scores.append(pd.DataFrame(['ARMA', size, (p,0,q), fitmodel.aic, rmse]).T)\n",
    "                    \n",
    "    arma_df = pd.concat(aic_scores, axis = 0)\n",
    "    arma_df.set_axis(['model type', 'train_size', 'order', 'AIC', 'RMSE'], axis = 1, inplace = True)\n",
    "    return_df = arma_df.sort_values(['train_size','RMSE'], ascending = [False,True]).reset_index(drop = True)\n",
    "    \n",
    "    return return_df"
   ]
  },
  {
   "cell_type": "markdown",
   "metadata": {},
   "source": [
    "# <span style=\"font-size:1.2em;\"> <a id=\"Data Preparation & Analysis\">Data Preparation & Analysis</a>"
   ]
  },
  {
   "cell_type": "code",
   "execution_count": 6,
   "metadata": {
    "ExecuteTime": {
     "end_time": "2022-01-27T15:35:22.705607Z",
     "start_time": "2022-01-27T15:35:22.666636Z"
    }
   },
   "outputs": [],
   "source": [
    "# Import datasets\n",
    "O3 = pd.read_csv('data/nycO3.csv')\n",
    "CO = pd.read_csv('data/nycCO.csv')\n",
    "NO2 = pd.read_csv('data/nycNO2.csv')\n",
    "SO2 = pd.read_csv('data/nycSO2.csv')"
   ]
  },
  {
   "cell_type": "code",
   "execution_count": 7,
   "metadata": {
    "ExecuteTime": {
     "end_time": "2022-01-27T15:35:23.351091Z",
     "start_time": "2022-01-27T15:35:23.258904Z"
    }
   },
   "outputs": [
    {
     "name": "stdout",
     "output_type": "stream",
     "text": [
      "datetime64[ns]\n"
     ]
    },
    {
     "data": {
      "text/html": [
       "<div>\n",
       "<style scoped>\n",
       "    .dataframe tbody tr th:only-of-type {\n",
       "        vertical-align: middle;\n",
       "    }\n",
       "\n",
       "    .dataframe tbody tr th {\n",
       "        vertical-align: top;\n",
       "    }\n",
       "\n",
       "    .dataframe thead th {\n",
       "        text-align: right;\n",
       "    }\n",
       "</style>\n",
       "<table border=\"1\" class=\"dataframe\">\n",
       "  <thead>\n",
       "    <tr style=\"text-align: right;\">\n",
       "      <th></th>\n",
       "      <th>O3 AQI</th>\n",
       "    </tr>\n",
       "    <tr>\n",
       "      <th>Date</th>\n",
       "      <th></th>\n",
       "    </tr>\n",
       "  </thead>\n",
       "  <tbody>\n",
       "    <tr>\n",
       "      <th>2000-01-01</th>\n",
       "      <td>25</td>\n",
       "    </tr>\n",
       "    <tr>\n",
       "      <th>2000-01-02</th>\n",
       "      <td>38</td>\n",
       "    </tr>\n",
       "    <tr>\n",
       "      <th>2000-01-03</th>\n",
       "      <td>31</td>\n",
       "    </tr>\n",
       "    <tr>\n",
       "      <th>2000-01-04</th>\n",
       "      <td>29</td>\n",
       "    </tr>\n",
       "    <tr>\n",
       "      <th>2000-01-05</th>\n",
       "      <td>24</td>\n",
       "    </tr>\n",
       "  </tbody>\n",
       "</table>\n",
       "</div>"
      ],
      "text/plain": [
       "            O3 AQI\n",
       "Date              \n",
       "2000-01-01      25\n",
       "2000-01-02      38\n",
       "2000-01-03      31\n",
       "2000-01-04      29\n",
       "2000-01-05      24"
      ]
     },
     "metadata": {},
     "output_type": "display_data"
    },
    {
     "name": "stdout",
     "output_type": "stream",
     "text": [
      "datetime64[ns]\n"
     ]
    },
    {
     "data": {
      "text/html": [
       "<div>\n",
       "<style scoped>\n",
       "    .dataframe tbody tr th:only-of-type {\n",
       "        vertical-align: middle;\n",
       "    }\n",
       "\n",
       "    .dataframe tbody tr th {\n",
       "        vertical-align: top;\n",
       "    }\n",
       "\n",
       "    .dataframe thead th {\n",
       "        text-align: right;\n",
       "    }\n",
       "</style>\n",
       "<table border=\"1\" class=\"dataframe\">\n",
       "  <thead>\n",
       "    <tr style=\"text-align: right;\">\n",
       "      <th></th>\n",
       "      <th>CO AQI</th>\n",
       "    </tr>\n",
       "    <tr>\n",
       "      <th>Date</th>\n",
       "      <th></th>\n",
       "    </tr>\n",
       "  </thead>\n",
       "  <tbody>\n",
       "    <tr>\n",
       "      <th>2000-01-01</th>\n",
       "      <td>27.0</td>\n",
       "    </tr>\n",
       "    <tr>\n",
       "      <th>2000-01-02</th>\n",
       "      <td>36.0</td>\n",
       "    </tr>\n",
       "    <tr>\n",
       "      <th>2000-01-03</th>\n",
       "      <td>38.0</td>\n",
       "    </tr>\n",
       "    <tr>\n",
       "      <th>2000-01-04</th>\n",
       "      <td>33.0</td>\n",
       "    </tr>\n",
       "    <tr>\n",
       "      <th>2000-01-05</th>\n",
       "      <td>22.0</td>\n",
       "    </tr>\n",
       "  </tbody>\n",
       "</table>\n",
       "</div>"
      ],
      "text/plain": [
       "            CO AQI\n",
       "Date              \n",
       "2000-01-01    27.0\n",
       "2000-01-02    36.0\n",
       "2000-01-03    38.0\n",
       "2000-01-04    33.0\n",
       "2000-01-05    22.0"
      ]
     },
     "metadata": {},
     "output_type": "display_data"
    },
    {
     "name": "stdout",
     "output_type": "stream",
     "text": [
      "datetime64[ns]\n"
     ]
    },
    {
     "data": {
      "text/html": [
       "<div>\n",
       "<style scoped>\n",
       "    .dataframe tbody tr th:only-of-type {\n",
       "        vertical-align: middle;\n",
       "    }\n",
       "\n",
       "    .dataframe tbody tr th {\n",
       "        vertical-align: top;\n",
       "    }\n",
       "\n",
       "    .dataframe thead th {\n",
       "        text-align: right;\n",
       "    }\n",
       "</style>\n",
       "<table border=\"1\" class=\"dataframe\">\n",
       "  <thead>\n",
       "    <tr style=\"text-align: right;\">\n",
       "      <th></th>\n",
       "      <th>NO2 AQI</th>\n",
       "    </tr>\n",
       "    <tr>\n",
       "      <th>Date</th>\n",
       "      <th></th>\n",
       "    </tr>\n",
       "  </thead>\n",
       "  <tbody>\n",
       "    <tr>\n",
       "      <th>2000-01-01</th>\n",
       "      <td>38</td>\n",
       "    </tr>\n",
       "    <tr>\n",
       "      <th>2000-01-02</th>\n",
       "      <td>54</td>\n",
       "    </tr>\n",
       "    <tr>\n",
       "      <th>2000-01-03</th>\n",
       "      <td>47</td>\n",
       "    </tr>\n",
       "    <tr>\n",
       "      <th>2000-01-04</th>\n",
       "      <td>52</td>\n",
       "    </tr>\n",
       "    <tr>\n",
       "      <th>2000-01-05</th>\n",
       "      <td>42</td>\n",
       "    </tr>\n",
       "  </tbody>\n",
       "</table>\n",
       "</div>"
      ],
      "text/plain": [
       "            NO2 AQI\n",
       "Date               \n",
       "2000-01-01       38\n",
       "2000-01-02       54\n",
       "2000-01-03       47\n",
       "2000-01-04       52\n",
       "2000-01-05       42"
      ]
     },
     "metadata": {},
     "output_type": "display_data"
    },
    {
     "name": "stdout",
     "output_type": "stream",
     "text": [
      "datetime64[ns]\n"
     ]
    },
    {
     "data": {
      "text/html": [
       "<div>\n",
       "<style scoped>\n",
       "    .dataframe tbody tr th:only-of-type {\n",
       "        vertical-align: middle;\n",
       "    }\n",
       "\n",
       "    .dataframe tbody tr th {\n",
       "        vertical-align: top;\n",
       "    }\n",
       "\n",
       "    .dataframe thead th {\n",
       "        text-align: right;\n",
       "    }\n",
       "</style>\n",
       "<table border=\"1\" class=\"dataframe\">\n",
       "  <thead>\n",
       "    <tr style=\"text-align: right;\">\n",
       "      <th></th>\n",
       "      <th>SO2 AQI</th>\n",
       "    </tr>\n",
       "    <tr>\n",
       "      <th>Date</th>\n",
       "      <th></th>\n",
       "    </tr>\n",
       "  </thead>\n",
       "  <tbody>\n",
       "    <tr>\n",
       "      <th>2000-01-01</th>\n",
       "      <td>105.0</td>\n",
       "    </tr>\n",
       "    <tr>\n",
       "      <th>2000-01-02</th>\n",
       "      <td>79.0</td>\n",
       "    </tr>\n",
       "    <tr>\n",
       "      <th>2000-01-03</th>\n",
       "      <td>99.0</td>\n",
       "    </tr>\n",
       "    <tr>\n",
       "      <th>2000-01-04</th>\n",
       "      <td>82.0</td>\n",
       "    </tr>\n",
       "    <tr>\n",
       "      <th>2000-01-05</th>\n",
       "      <td>43.0</td>\n",
       "    </tr>\n",
       "  </tbody>\n",
       "</table>\n",
       "</div>"
      ],
      "text/plain": [
       "            SO2 AQI\n",
       "Date               \n",
       "2000-01-01    105.0\n",
       "2000-01-02     79.0\n",
       "2000-01-03     99.0\n",
       "2000-01-04     82.0\n",
       "2000-01-05     43.0"
      ]
     },
     "metadata": {},
     "output_type": "display_data"
    }
   ],
   "source": [
    "# Change date columns to datetime and set as index for time series\n",
    "dflist = [O3, CO, NO2, SO2]\n",
    "\n",
    "for df in dflist:\n",
    "    df['Date'] = pd.to_datetime(df['Date'])\n",
    "    df.set_index(['Date'], inplace=True)\n",
    "    print(df.index.dtype)\n",
    "    display(df.head())"
   ]
  },
  {
   "cell_type": "code",
   "execution_count": null,
   "metadata": {
    "ExecuteTime": {
     "end_time": "2022-01-27T15:30:10.527037Z",
     "start_time": "2022-01-27T15:30:10.417814Z"
    }
   },
   "outputs": [],
   "source": [
    "# Creating list of daily AQI per pollutant\n",
    "dailys = []\n",
    "for df in dflist:\n",
    "    dailys.append(df.iloc[:])\n",
    "\n",
    "# Downsampling from days to months\n",
    "monthlyO3 = dailys[0].resample('M').mean()\n",
    "monthlyCO = dailys[1].resample('M').mean()\n",
    "monthlyNO2 = dailys[2].resample('M').mean()\n",
    "monthlySO2 = dailys[3].resample('M').mean()\n",
    "\n",
    "# Creating list of monthly AQI per pollutant\n",
    "monthlys = [monthlyO3, monthlyCO, monthlyNO2, monthlySO2]\n",
    "\n",
    "# Concatenating individual pollutant dataframes for visualization\n",
    "df = pd.merge(O3, CO, how='inner', left_index=True, right_index=True)\n",
    "df = pd.merge(df, NO2, how='inner', left_index=True, right_index=True)\n",
    "df = pd.merge(df, SO2, how='inner', left_index=True, right_index=True)\n",
    "df.info()\n",
    "\n",
    "# Creating list of daily AQI per pollutant\n",
    "dailys = [df['O3 AQI'], df['CO AQI'], df['NO2 AQI'], df['SO2 AQI']]\n",
    "\n",
    "# Downsampling from days to months\n",
    "monthlyO3 = df.copy()['O3 AQI'].resample('M').mean()\n",
    "monthlyCO = df.copy()['CO AQI'].resample('M').mean()\n",
    "monthlyNO2 = df.copy()['NO2 AQI'].resample('M').mean()\n",
    "monthlySO2 = df.copy()['SO2 AQI'].resample('M').mean()\n",
    "\n",
    "# Creating list of monthly AQI per pollutant\n",
    "monthlys = [monthlyO3, monthlyCO, monthlyNO2, monthlySO2]"
   ]
  },
  {
   "cell_type": "code",
   "execution_count": null,
   "metadata": {
    "ExecuteTime": {
     "end_time": "2022-01-27T15:30:13.506433Z",
     "start_time": "2022-01-27T15:30:11.943930Z"
    },
    "scrolled": true
   },
   "outputs": [],
   "source": [
    "# Plotting daily AQI\n",
    "plt.figure(figsize=(20,6), dpi=300)\n",
    "dailys[0].plot(color='magenta', alpha=0.7)\n",
    "dailys[1].plot(color='#61d4c1', alpha=0.7)\n",
    "dailys[2].plot(color='#4527d9', alpha=0.7)\n",
    "dailys[3].plot(color='#ffd500', alpha=0.7)\n",
    "plt.title('Daily AQI')\n",
    "plt.ylabel('AQI')\n",
    "plt.legend();"
   ]
  },
  {
   "cell_type": "code",
   "execution_count": null,
   "metadata": {
    "ExecuteTime": {
     "end_time": "2022-01-27T15:30:14.703736Z",
     "start_time": "2022-01-27T15:30:13.508851Z"
    }
   },
   "outputs": [],
   "source": [
    "# Plotting monthly AQI\n",
    "plt.figure(figsize=(20,6), dpi=300)\n",
    "monthlys[0].plot(color='magenta')\n",
    "monthlys[1].plot(color='#61d4c1')\n",
    "monthlys[2].plot(color='#4527d9')\n",
    "monthlys[3].plot(color='#ffd500')\n",
    "plt.title('Monthly AQI')\n",
    "plt.ylabel('AQI')\n",
    "plt.legend();"
   ]
  },
  {
   "cell_type": "code",
   "execution_count": null,
   "metadata": {
    "ExecuteTime": {
     "end_time": "2022-01-27T15:31:45.229197Z",
     "start_time": "2022-01-27T15:31:45.220518Z"
    }
   },
   "outputs": [],
   "source": [
    "# Log\n",
    "monthlyO3_log = np.log(monthlyO3)\n",
    "monthlyCO_log = np.log(monthlyCO)\n",
    "monthlyNO2_log = np.log(monthlyNO2)\n",
    "monthlySO2_log = np.log(monthlySO2)"
   ]
  },
  {
   "cell_type": "code",
   "execution_count": null,
   "metadata": {
    "ExecuteTime": {
     "end_time": "2022-01-27T15:31:45.692031Z",
     "start_time": "2022-01-27T15:31:45.401525Z"
    }
   },
   "outputs": [],
   "source": [
    "# Testing with CO\n",
    "monthlyCO_log.plot(figsize=(20,4))\n",
    "stationarity_check(monthlyCO_log, 'CO')"
   ]
  },
  {
   "cell_type": "code",
   "execution_count": null,
   "metadata": {
    "ExecuteTime": {
     "end_time": "2022-01-27T06:08:24.572939Z",
     "start_time": "2022-01-27T06:08:23.879226Z"
    }
   },
   "outputs": [],
   "source": [
    "# Moving average\n",
    "moving_avg = monthlyCO_log.rolling(window=12).mean()\n",
    "monthlyCO_log.plot(figsize=(22,2))\n",
    "moving_avg.plot(color='red')\n",
    "monthlyCO_log_moving_avg_diff = monthlyCO_log - moving_avg\n",
    "monthlyCO_log_moving_avg_diff.dropna(inplace=True)\n",
    "\n",
    "stationarity_check(monthlyCO_log_moving_avg_diff, 'CO')"
   ]
  },
  {
   "cell_type": "code",
   "execution_count": null,
   "metadata": {
    "ExecuteTime": {
     "end_time": "2022-01-27T06:08:29.084124Z",
     "start_time": "2022-01-27T06:08:28.632274Z"
    }
   },
   "outputs": [],
   "source": [
    "# Eliminating Trend and Seasonality\n",
    "# First order differencing \n",
    "monthlyCO_log_diff = monthlyCO_log - monthlyCO_log.shift()\n",
    "plt.plot(monthlyCO_log_diff)\n",
    "monthlyCO_log_diff.dropna(inplace=True)\n",
    "stationarity_check(monthlyCO_log_diff, 'CO')"
   ]
  },
  {
   "cell_type": "code",
   "execution_count": null,
   "metadata": {
    "ExecuteTime": {
     "end_time": "2022-01-27T06:10:47.729996Z",
     "start_time": "2022-01-27T06:10:47.694732Z"
    }
   },
   "outputs": [],
   "source": [
    "# Decompose \n",
    "\n",
    "# NEED TO FIX #\n",
    "\n",
    "# monthlyCO_log_decompose = seasonal_decompose(monthlyCO_log).resid\n",
    "# monthlyCO_log_decompose.dropna(inplace=True)\n",
    "# stationarity_check(monthlyCO_log_decompose, 'CO')"
   ]
  },
  {
   "cell_type": "code",
   "execution_count": null,
   "metadata": {
    "ExecuteTime": {
     "end_time": "2022-01-27T06:10:54.551486Z",
     "start_time": "2022-01-27T06:10:54.543276Z"
    }
   },
   "outputs": [],
   "source": [
    "# ACF and PACF\n",
    "lag_acf = acf(monthlyCO_log_diff, nlags=20)\n",
    "lag_pacf = pacf(monthlyCO_log_diff, nlags=20, method='ols')"
   ]
  },
  {
   "cell_type": "code",
   "execution_count": null,
   "metadata": {
    "ExecuteTime": {
     "end_time": "2022-01-27T06:11:24.192697Z",
     "start_time": "2022-01-27T06:11:23.880358Z"
    }
   },
   "outputs": [],
   "source": [
    "#Plot ACF: \n",
    "plt.plot(lag_acf)\n",
    "plt.axhline(y=0,linestyle='--',color='gray')\n",
    "plt.axhline(y=-1.96/np.sqrt(len(monthlyCO_log_diff)),linestyle='--',color='gray')\n",
    "plt.axhline(y=1.96/np.sqrt(len(monthlyCO_log_diff)),linestyle='--',color='gray')\n",
    "plt.title('Autocorrelation Function')"
   ]
  },
  {
   "cell_type": "code",
   "execution_count": null,
   "metadata": {
    "ExecuteTime": {
     "end_time": "2022-01-27T06:11:24.997290Z",
     "start_time": "2022-01-27T06:11:24.784544Z"
    }
   },
   "outputs": [],
   "source": [
    "#Plot PACF:\n",
    "plt.plot(lag_pacf)\n",
    "plt.axhline(y=0,linestyle='--',color='gray')\n",
    "plt.axhline(y=-1.96/np.sqrt(len(monthlyCO_log_diff)),linestyle='--',color='gray')\n",
    "plt.axhline(y=1.96/np.sqrt(len(monthlyCO_log_diff)),linestyle='--',color='gray')\n",
    "plt.title('Partial Autocorrelation Function')\n",
    "plt.tight_layout()"
   ]
  },
  {
   "cell_type": "code",
   "execution_count": null,
   "metadata": {
    "ExecuteTime": {
     "end_time": "2022-01-27T06:12:27.359202Z",
     "start_time": "2022-01-27T06:12:23.887371Z"
    }
   },
   "outputs": [],
   "source": [
    "i=0\n",
    "for df in dflist:\n",
    "    stationarity_check(df, df.columns)\n",
    "    i+=1"
   ]
  },
  {
   "cell_type": "markdown",
   "metadata": {},
   "source": [
    "# <span style=\"font-size:1.2em;\"> <a id=\"Modeling\">Modeling</a>"
   ]
  },
  {
   "cell_type": "code",
   "execution_count": null,
   "metadata": {},
   "outputs": [],
   "source": [
    "dd= np.asarray(train.Count)\n",
    "y_hat = test.copy()\n",
    "y_hat['naive'] = dd[len(dd)-1]\n",
    "plt.figure(figsize=(12,8))\n",
    "plt.plot(train.index, train['Count'], label='Train')\n",
    "plt.plot(test.index,test['Count'], label='Test')\n",
    "plt.plot(y_hat.index,y_hat['naive'], label='Naive Forecast')\n",
    "plt.legend(loc='best')\n",
    "plt.title(\"Naive Forecast\")\n",
    "plt.show()\n",
    "\n",
    "\n",
    "from sklearn.metrics import mean_squared_error\n",
    "from math import sqrt\n",
    "rms = sqrt(mean_squared_error(test.Count, y_hat.naive))\n",
    "print(rms)\n",
    "\n",
    "RMSE = 43.9164061439"
   ]
  },
  {
   "cell_type": "code",
   "execution_count": null,
   "metadata": {
    "ExecuteTime": {
     "end_time": "2022-01-27T06:12:27.372487Z",
     "start_time": "2022-01-27T06:12:27.365066Z"
    }
   },
   "outputs": [],
   "source": [
    "p = d = q = range(0, 2)\n",
    "pdq = list(itertools.product(p, d, q))"
   ]
  },
  {
   "cell_type": "code",
   "execution_count": null,
   "metadata": {
    "ExecuteTime": {
     "end_time": "2022-01-27T06:12:27.462691Z",
     "start_time": "2022-01-27T06:12:27.376726Z"
    }
   },
   "outputs": [],
   "source": [
    "# Generate all different combinations of seasonal p, q and q triplets\n",
    "seasonal_pdq = [(x[0], x[1], x[2],12) for x in list(itertools.product(p, d, q))]\n",
    "\n",
    "print('Examples of parameter combinations for Seasonal ARIMA...')\n",
    "print('SARIMAX: {} x {}'.format(pdq[1], seasonal_pdq[1]))\n",
    "print('SARIMAX: {} x {}'.format(pdq[1], seasonal_pdq[2]))\n",
    "print('SARIMAX: {} x {}'.format(pdq[2], seasonal_pdq[3]))\n",
    "print('SARIMAX: {} x {}'.format(pdq[2], seasonal_pdq[4]))"
   ]
  },
  {
   "cell_type": "code",
   "execution_count": null,
   "metadata": {
    "ExecuteTime": {
     "end_time": "2022-01-27T06:12:42.508549Z",
     "start_time": "2022-01-27T06:12:27.584633Z"
    }
   },
   "outputs": [],
   "source": [
    "for param in pdq:\n",
    "    for param_seasonal in seasonal_pdq:\n",
    "        try:\n",
    "            mod = SARIMAX(monthlyCO_log,\n",
    "                          order=param,\n",
    "                          seasonal_order=param_seasonal,\n",
    "                          enforce_stationarity=False,\n",
    "                          enforce_invertibility=False)\n",
    "\n",
    "            results = mod.fit()\n",
    "\n",
    "            print('ARIMA{}x{}12 - AIC:{}'.format(param, param_seasonal, results.aic))\n",
    "        except:\n",
    "            continue\n",
    "        \n",
    "mod = SARIMAX(monthlyCO_log,\n",
    "              order=(1,0,1),\n",
    "              seasonal_order=(1, 0, 1, 12),\n",
    "              enforce_stationarity=False,\n",
    "              enforce_invertibility=False)\n",
    "\n",
    "results = mod.fit()\n",
    "\n",
    "print(results.summary().tables[1])\n",
    "\n",
    "results.plot_diagnostics(figsize=(15, 12))\n",
    "plt.show()"
   ]
  },
  {
   "cell_type": "code",
   "execution_count": null,
   "metadata": {
    "ExecuteTime": {
     "end_time": "2022-01-27T06:12:43.072297Z",
     "start_time": "2022-01-27T06:12:42.514877Z"
    }
   },
   "outputs": [],
   "source": [
    "pred = results.get_prediction(start=pd.to_datetime('2019-06-30 00:00:00'), dynamic=False)\n",
    "pred_ci = pred.conf_int()\n",
    "fig = plt.figure(figsize=(22,6))\n",
    "ax = monthlyCO_log['2000':].plot(label='Observed')\n",
    "pred.predicted_mean.plot(ax=ax, label='One-step Ahead Forecast', alpha=.7)\n",
    "\n",
    "ax.fill_between(pred_ci.index,\n",
    "                pred_ci.iloc[:, 0],\n",
    "                pred_ci.iloc[:, 1], color='k', alpha=.2)\n",
    "\n",
    "ax.set_xlabel('Date')\n",
    "ax.set_ylabel('CO AQI Levels')\n",
    "plt.legend()\n",
    "plt.show()"
   ]
  },
  {
   "cell_type": "code",
   "execution_count": null,
   "metadata": {
    "ExecuteTime": {
     "end_time": "2022-01-27T06:12:43.119344Z",
     "start_time": "2022-01-27T06:12:43.077779Z"
    }
   },
   "outputs": [],
   "source": [
    "monthlyCO_forecasted = np.exp(pred.predicted_mean)\n",
    "monthlyCO_truth = np.exp(monthlyCO_log['2015-06-30 00:00:00':])\n",
    "\n",
    "\"\"\"\n",
    "NEED TO FIX THIS\n",
    "\"\"\"\n",
    "\n",
    "# Compute the mse and rmse\n",
    "mse =( (monthlyCO_forecasted - monthlyCO_truth) ** 2).mean()\n",
    "print('The Mean Squared Error of our forecasts is {}'.format(round(mse, 2)))\n",
    "print('The RMSE of our forecasts is {}'.format(round(np.sqrt(mse), 2)))"
   ]
  },
  {
   "cell_type": "code",
   "execution_count": null,
   "metadata": {
    "ExecuteTime": {
     "end_time": "2022-01-27T06:12:43.155181Z",
     "start_time": "2022-01-27T06:12:43.123711Z"
    }
   },
   "outputs": [],
   "source": [
    "\"\"\"\n",
    "NEED TO FIX THIS\n",
    "\"\"\"\n",
    "MASE(monthlyCO_truth, monthlyCO_truth, monthlyCO_forecasted)"
   ]
  },
  {
   "cell_type": "code",
   "execution_count": null,
   "metadata": {
    "ExecuteTime": {
     "end_time": "2022-01-27T06:12:43.587194Z",
     "start_time": "2022-01-27T06:12:43.170861Z"
    }
   },
   "outputs": [],
   "source": [
    "pred_dynamic = results.get_prediction(start=pd.to_datetime('2015-06-30 00:00:00'), dynamic=True, full_results=True)\n",
    "pred_dynamic_ci = pred_dynamic.conf_int()\n",
    "\n",
    "ax = monthlyCO_log['2000':].plot(label='Observed', figsize=(20, 6))\n",
    "pred_dynamic.predicted_mean.plot(label='Dynamic Forecast', ax=ax)\n",
    "\n",
    "ax.fill_between(pred_dynamic_ci.index,\n",
    "                pred_dynamic_ci.iloc[:, 0],\n",
    "                pred_dynamic_ci.iloc[:, 1], color='k', alpha=.25)\n",
    "\n",
    "ax.fill_betweenx(ax.get_ylim(), pd.to_datetime('2015-06-30 00:00:00'), monthlyCO_log.index[-1],\n",
    "                 alpha=.1, zorder=-1)\n",
    "\n",
    "ax.set_xlabel('Date')\n",
    "ax.set_ylabel('CO AQI')\n",
    "\n",
    "plt.legend()\n",
    "plt.show()"
   ]
  },
  {
   "cell_type": "code",
   "execution_count": null,
   "metadata": {
    "ExecuteTime": {
     "end_time": "2022-01-27T06:12:43.902191Z",
     "start_time": "2022-01-27T06:12:43.589698Z"
    }
   },
   "outputs": [],
   "source": [
    "# Get forecast 500 steps ahead in future\n",
    "pred_uc = results.get_forecast(steps=12)\n",
    "\n",
    "# Get confidence intervals of forecasts\n",
    "pred_ci = pred_uc.conf_int()\n",
    "\n",
    "ax = monthlyCO_log.plot(label='Observed', figsize=(20, 6))\n",
    "pred_uc.predicted_mean.plot(ax=ax, label='Forecast')\n",
    "ax.fill_between(pred_ci.index,\n",
    "                pred_ci.iloc[:, 0],\n",
    "                pred_ci.iloc[:, 1], color='k', alpha=.25)\n",
    "ax.set_xlabel('Date')\n",
    "ax.set_ylabel('CO AQI')\n",
    "\n",
    "plt.legend()\n",
    "plt.show()\n",
    "\n",
    "\n",
    "np.exp(pred_uc.predicted_mean)"
   ]
  },
  {
   "cell_type": "code",
   "execution_count": null,
   "metadata": {
    "ExecuteTime": {
     "end_time": "2022-01-27T06:08:03.365292Z",
     "start_time": "2022-01-27T06:07:55.306Z"
    }
   },
   "outputs": [],
   "source": [
    "arma = ARMA_model(O3, 'O3')\n",
    "\n",
    "# mod_arma = ARMA(O3, order=(1,0), freq='D')\n",
    "# O3_arma = mod_arma.fit()\n",
    "# print(O3_arma.summary())\n",
    "\n",
    "# mod_arma = ARMA(O3, order=(0,1), freq='D')\n",
    "# O3_arma = mod_arma.fit()\n",
    "# print(O3_arma.summary())\n",
    "\n",
    "# mod_arma = ARMA(O3, order=(2,0), freq='D')\n",
    "# O3_arma = mod_arma.fit()\n",
    "# print(O3_arma.summary())\n",
    "\n",
    "# mod_arma = ARMA(O3, order=(0,2), freq='D')\n",
    "# O3_arma = mod_arma.fit()\n",
    "# print(O3_arma.summary())\n",
    "\n",
    "# mod_arma = ARMA(O3, order=(2,1), freq='D')\n",
    "# O3_arma = mod_arma.fit()\n",
    "# print(O3_arma.summary())\n",
    "\n",
    "# mod_arma = ARMA(O3, order=(1,2), freq='D')\n",
    "# O3_arma = mod_arma.fit()\n",
    "# print(O3_arma.summary())\n",
    "\n",
    "# mod_arma = ARMA(O3, order=(2,2), freq='D')\n",
    "# O3_arma = mod_arma.fit()\n",
    "# print(O3_arma.summary())\n",
    "\n",
    "# mod_arima = ARIMA(O3, order=(1,1,1), freq='D')\n",
    "# O3_arima = mod_arima.fit()\n",
    "# print(O3_arima.summary())\n",
    "\n",
    "# mod_sarimax = SARIMAX(O3, order=(1,1,1), freq='D')\n",
    "# O3_sarimax = mod_sarimax.fit()\n",
    "# print(O3_sarimax.summary())"
   ]
  },
  {
   "cell_type": "markdown",
   "metadata": {
    "heading_collapsed": true
   },
   "source": [
    "# <span style=\"font-size:1.2em;\"> <a id=\"Visualizations\">Visualizations</a>"
   ]
  },
  {
   "cell_type": "code",
   "execution_count": null,
   "metadata": {
    "ExecuteTime": {
     "end_time": "2022-01-27T15:25:31.877808Z",
     "start_time": "2022-01-27T15:25:31.821955Z"
    },
    "hidden": true
   },
   "outputs": [],
   "source": [
    "df = pd.merge(O3, CO, how='inner', left_index=True, right_index=True)\n",
    "df = pd.merge(df, NO2, how='inner', left_index=True, right_index=True)\n",
    "df = pd.merge(df, SO2, how='inner', left_index=True, right_index=True)\n",
    "df.info()"
   ]
  },
  {
   "cell_type": "code",
   "execution_count": null,
   "metadata": {
    "ExecuteTime": {
     "end_time": "2022-01-27T06:13:46.446322Z",
     "start_time": "2022-01-27T06:13:46.409155Z"
    },
    "hidden": true
   },
   "outputs": [],
   "source": [
    "# Creating list of daily AQI per pollutant\n",
    "dailys = [df['O3 AQI'], df['CO AQI'], df['NO2 AQI'], df['SO2 AQI']]\n",
    "\n",
    "# Downsampling from days to months\n",
    "monthlyO3 = df.copy()['O3 AQI'].resample('M').mean()\n",
    "monthlyCO = df.copy()['CO AQI'].resample('M').mean()\n",
    "monthlyNO2 = df.copy()['NO2 AQI'].resample('M').mean()\n",
    "monthlySO2 = df.copy()['SO2 AQI'].resample('M').mean()\n",
    "\n",
    "# Creating list of monthly AQI per pollutant\n",
    "monthlys = [monthlyO3, monthlyCO, monthlyNO2, monthlySO2]"
   ]
  },
  {
   "cell_type": "code",
   "execution_count": null,
   "metadata": {
    "ExecuteTime": {
     "end_time": "2022-01-27T15:25:12.076252Z",
     "start_time": "2022-01-27T15:25:10.675691Z"
    },
    "hidden": true
   },
   "outputs": [],
   "source": [
    "# Plotting daily AQI\n",
    "plt.figure(figsize=(20,6), dpi=300)\n",
    "dailys[0].plot(color='magenta', alpha=0.7)\n",
    "dailys[1].plot(color='#61d4c1', alpha=0.7)\n",
    "dailys[2].plot(color='#4527d9', alpha=0.7)\n",
    "dailys[3].plot(color='#ffd500', alpha=0.7)\n",
    "plt.title('Daily AQI')\n",
    "plt.ylabel('AQI')\n",
    "plt.legend();"
   ]
  },
  {
   "cell_type": "code",
   "execution_count": null,
   "metadata": {
    "ExecuteTime": {
     "end_time": "2022-01-27T15:24:06.227546Z",
     "start_time": "2022-01-27T15:24:05.422878Z"
    },
    "hidden": true
   },
   "outputs": [],
   "source": [
    "# Plotting monthly AQI\n",
    "plt.figure(figsize=(20,6), dpi=300)\n",
    "monthlys[0].plot(color='magenta')\n",
    "monthlys[1].plot(color='#61d4c1')\n",
    "monthlys[2].plot(color='#4527d9')\n",
    "monthlys[3].plot(color='#ffd500')\n",
    "plt.title('Monthly AQI')\n",
    "plt.ylabel('AQI')\n",
    "plt.legend();"
   ]
  },
  {
   "cell_type": "markdown",
   "metadata": {
    "heading_collapsed": true
   },
   "source": [
    "# <span style=\"font-size:1.2em;\"> <a id=\"Conclusion\">Conclusion</a>"
   ]
  },
  {
   "cell_type": "markdown",
   "metadata": {
    "ExecuteTime": {
     "end_time": "2022-01-25T15:21:14.069521Z",
     "start_time": "2022-01-25T15:21:14.059665Z"
    },
    "hidden": true
   },
   "source": [
    "> In conclusion, my SARIMA model forecasted air quality in New York City quite well and could even be used in shaping government policy on public health. I would recommend implementing measures to decrease the presence of air pollutants, especially ozone and nitrogen dioxide, as there hasn't been much decrease from 2000."
   ]
  },
  {
   "cell_type": "markdown",
   "metadata": {
    "heading_collapsed": true
   },
   "source": [
    "# <span style=\"font-size:1.2em;\"> <a id=\"Next Steps\">Next Steps</a>"
   ]
  },
  {
   "cell_type": "markdown",
   "metadata": {
    "hidden": true
   },
   "source": [
    "> Given more time and resources, I would like to explore beyond New York City, modeling for other cities and even seeing how cities compare to suburban or rural areas. Another pollutant I'd like to consider is particulate matter. In terms of modeling, it would be interesting to see how well a recurrent neural network would perform."
   ]
  },
  {
   "cell_type": "code",
   "execution_count": null,
   "metadata": {
    "hidden": true
   },
   "outputs": [],
   "source": []
  },
  {
   "cell_type": "markdown",
   "metadata": {
    "hidden": true
   },
   "source": [
    "Function sources:\n",
    "\n",
    "https://www.kaggle.com/victoraqiao/time-series-forecasting-arima-co-aqi\n",
    "\n",
    "MASE:\n",
    "https://github.com/scikit-learn/scikit-learn/issues/18685"
   ]
  },
  {
   "cell_type": "code",
   "execution_count": null,
   "metadata": {
    "hidden": true
   },
   "outputs": [],
   "source": []
  }
 ],
 "metadata": {
  "kernelspec": {
   "display_name": "Python (learn-env)",
   "language": "python",
   "name": "learn-env"
  },
  "language_info": {
   "codemirror_mode": {
    "name": "ipython",
    "version": 3
   },
   "file_extension": ".py",
   "mimetype": "text/x-python",
   "name": "python",
   "nbconvert_exporter": "python",
   "pygments_lexer": "ipython3",
   "version": "3.8.5"
  }
 },
 "nbformat": 4,
 "nbformat_minor": 4
}
