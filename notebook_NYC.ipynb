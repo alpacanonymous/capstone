{
 "cells": [
  {
   "cell_type": "code",
   "execution_count": 1,
   "metadata": {
    "ExecuteTime": {
     "end_time": "2022-01-26T21:54:40.031505Z",
     "start_time": "2022-01-26T21:54:37.707048Z"
    }
   },
   "outputs": [],
   "source": [
    "# Import libraries\n",
    "import pandas as pd\n",
    "import numpy as np\n",
    "import itertools\n",
    "import warnings\n",
    "warnings.filterwarnings('ignore')\n",
    "\n",
    "import matplotlib.pyplot as plt\n",
    "import seaborn as sns\n",
    "%matplotlib inline\n",
    "\n",
    "from sklearn.metrics import mean_squared_error as mse\n",
    "\n",
    "from statsmodels.tsa.stattools import adfuller, acf, pacf\n",
    "from statsmodels.tsa.arima_process import ArmaProcess\n",
    "from statsmodels.tsa.arima_model import ARMA, ARIMA, ARIMAResults\n",
    "from statsmodels.tsa.statespace.sarimax import SARIMAX\n",
    "from statsmodels.tsa.seasonal import seasonal_decompose\n",
    "from statsmodels.graphics.tsaplots import plot_acf, plot_pacf"
   ]
  },
  {
   "cell_type": "code",
   "execution_count": 2,
   "metadata": {
    "ExecuteTime": {
     "end_time": "2022-01-26T21:54:40.082339Z",
     "start_time": "2022-01-26T21:54:40.034040Z"
    }
   },
   "outputs": [],
   "source": [
    "def rmse(y_true, y_pred):\n",
    "    return mse(y_true, y_pred, squared=False)"
   ]
  },
  {
   "cell_type": "code",
   "execution_count": 3,
   "metadata": {
    "ExecuteTime": {
     "end_time": "2022-01-26T21:54:40.270774Z",
     "start_time": "2022-01-26T21:54:40.206659Z"
    }
   },
   "outputs": [],
   "source": [
    "O3 = pd.read_csv('data/nycO3.csv')\n",
    "CO = pd.read_csv('data/nycCO.csv')\n",
    "NO2 = pd.read_csv('data/nycNO2.csv')\n",
    "SO2 = pd.read_csv('data/nycSO2.csv')"
   ]
  },
  {
   "cell_type": "code",
   "execution_count": 4,
   "metadata": {
    "ExecuteTime": {
     "end_time": "2022-01-26T21:54:41.762457Z",
     "start_time": "2022-01-26T21:54:41.704455Z"
    }
   },
   "outputs": [
    {
     "name": "stdout",
     "output_type": "stream",
     "text": [
      "datetime64[ns]\n",
      "datetime64[ns]\n",
      "datetime64[ns]\n",
      "datetime64[ns]\n"
     ]
    }
   ],
   "source": [
    "# Change date columns to datetime and set as index for time series\n",
    "dflist = [O3, CO, NO2, SO2]\n",
    "\n",
    "for df in dflist:\n",
    "    df['Date'] = pd.to_datetime(df['Date'])\n",
    "    df.set_index(['Date'], inplace=True)\n",
    "    print(df.index.dtype)"
   ]
  },
  {
   "cell_type": "code",
   "execution_count": 5,
   "metadata": {
    "ExecuteTime": {
     "end_time": "2022-01-26T21:54:45.124572Z",
     "start_time": "2022-01-26T21:54:45.088421Z"
    },
    "scrolled": true
   },
   "outputs": [
    {
     "data": {
      "text/html": [
       "<div>\n",
       "<style scoped>\n",
       "    .dataframe tbody tr th:only-of-type {\n",
       "        vertical-align: middle;\n",
       "    }\n",
       "\n",
       "    .dataframe tbody tr th {\n",
       "        vertical-align: top;\n",
       "    }\n",
       "\n",
       "    .dataframe thead th {\n",
       "        text-align: right;\n",
       "    }\n",
       "</style>\n",
       "<table border=\"1\" class=\"dataframe\">\n",
       "  <thead>\n",
       "    <tr style=\"text-align: right;\">\n",
       "      <th></th>\n",
       "      <th>O3 AQI</th>\n",
       "    </tr>\n",
       "    <tr>\n",
       "      <th>Date</th>\n",
       "      <th></th>\n",
       "    </tr>\n",
       "  </thead>\n",
       "  <tbody>\n",
       "    <tr>\n",
       "      <th>2000-01-01</th>\n",
       "      <td>25</td>\n",
       "    </tr>\n",
       "    <tr>\n",
       "      <th>2000-01-02</th>\n",
       "      <td>38</td>\n",
       "    </tr>\n",
       "    <tr>\n",
       "      <th>2000-01-03</th>\n",
       "      <td>31</td>\n",
       "    </tr>\n",
       "    <tr>\n",
       "      <th>2000-01-04</th>\n",
       "      <td>29</td>\n",
       "    </tr>\n",
       "    <tr>\n",
       "      <th>2000-01-05</th>\n",
       "      <td>24</td>\n",
       "    </tr>\n",
       "  </tbody>\n",
       "</table>\n",
       "</div>"
      ],
      "text/plain": [
       "            O3 AQI\n",
       "Date              \n",
       "2000-01-01      25\n",
       "2000-01-02      38\n",
       "2000-01-03      31\n",
       "2000-01-04      29\n",
       "2000-01-05      24"
      ]
     },
     "metadata": {},
     "output_type": "display_data"
    },
    {
     "data": {
      "text/html": [
       "<div>\n",
       "<style scoped>\n",
       "    .dataframe tbody tr th:only-of-type {\n",
       "        vertical-align: middle;\n",
       "    }\n",
       "\n",
       "    .dataframe tbody tr th {\n",
       "        vertical-align: top;\n",
       "    }\n",
       "\n",
       "    .dataframe thead th {\n",
       "        text-align: right;\n",
       "    }\n",
       "</style>\n",
       "<table border=\"1\" class=\"dataframe\">\n",
       "  <thead>\n",
       "    <tr style=\"text-align: right;\">\n",
       "      <th></th>\n",
       "      <th>CO AQI</th>\n",
       "    </tr>\n",
       "    <tr>\n",
       "      <th>Date</th>\n",
       "      <th></th>\n",
       "    </tr>\n",
       "  </thead>\n",
       "  <tbody>\n",
       "    <tr>\n",
       "      <th>2000-01-01</th>\n",
       "      <td>27.0</td>\n",
       "    </tr>\n",
       "    <tr>\n",
       "      <th>2000-01-02</th>\n",
       "      <td>36.0</td>\n",
       "    </tr>\n",
       "    <tr>\n",
       "      <th>2000-01-03</th>\n",
       "      <td>38.0</td>\n",
       "    </tr>\n",
       "    <tr>\n",
       "      <th>2000-01-04</th>\n",
       "      <td>33.0</td>\n",
       "    </tr>\n",
       "    <tr>\n",
       "      <th>2000-01-05</th>\n",
       "      <td>22.0</td>\n",
       "    </tr>\n",
       "  </tbody>\n",
       "</table>\n",
       "</div>"
      ],
      "text/plain": [
       "            CO AQI\n",
       "Date              \n",
       "2000-01-01    27.0\n",
       "2000-01-02    36.0\n",
       "2000-01-03    38.0\n",
       "2000-01-04    33.0\n",
       "2000-01-05    22.0"
      ]
     },
     "metadata": {},
     "output_type": "display_data"
    },
    {
     "data": {
      "text/html": [
       "<div>\n",
       "<style scoped>\n",
       "    .dataframe tbody tr th:only-of-type {\n",
       "        vertical-align: middle;\n",
       "    }\n",
       "\n",
       "    .dataframe tbody tr th {\n",
       "        vertical-align: top;\n",
       "    }\n",
       "\n",
       "    .dataframe thead th {\n",
       "        text-align: right;\n",
       "    }\n",
       "</style>\n",
       "<table border=\"1\" class=\"dataframe\">\n",
       "  <thead>\n",
       "    <tr style=\"text-align: right;\">\n",
       "      <th></th>\n",
       "      <th>NO2 AQI</th>\n",
       "    </tr>\n",
       "    <tr>\n",
       "      <th>Date</th>\n",
       "      <th></th>\n",
       "    </tr>\n",
       "  </thead>\n",
       "  <tbody>\n",
       "    <tr>\n",
       "      <th>2000-01-01</th>\n",
       "      <td>38</td>\n",
       "    </tr>\n",
       "    <tr>\n",
       "      <th>2000-01-02</th>\n",
       "      <td>54</td>\n",
       "    </tr>\n",
       "    <tr>\n",
       "      <th>2000-01-03</th>\n",
       "      <td>47</td>\n",
       "    </tr>\n",
       "    <tr>\n",
       "      <th>2000-01-04</th>\n",
       "      <td>52</td>\n",
       "    </tr>\n",
       "    <tr>\n",
       "      <th>2000-01-05</th>\n",
       "      <td>42</td>\n",
       "    </tr>\n",
       "  </tbody>\n",
       "</table>\n",
       "</div>"
      ],
      "text/plain": [
       "            NO2 AQI\n",
       "Date               \n",
       "2000-01-01       38\n",
       "2000-01-02       54\n",
       "2000-01-03       47\n",
       "2000-01-04       52\n",
       "2000-01-05       42"
      ]
     },
     "metadata": {},
     "output_type": "display_data"
    },
    {
     "data": {
      "text/html": [
       "<div>\n",
       "<style scoped>\n",
       "    .dataframe tbody tr th:only-of-type {\n",
       "        vertical-align: middle;\n",
       "    }\n",
       "\n",
       "    .dataframe tbody tr th {\n",
       "        vertical-align: top;\n",
       "    }\n",
       "\n",
       "    .dataframe thead th {\n",
       "        text-align: right;\n",
       "    }\n",
       "</style>\n",
       "<table border=\"1\" class=\"dataframe\">\n",
       "  <thead>\n",
       "    <tr style=\"text-align: right;\">\n",
       "      <th></th>\n",
       "      <th>SO2 AQI</th>\n",
       "    </tr>\n",
       "    <tr>\n",
       "      <th>Date</th>\n",
       "      <th></th>\n",
       "    </tr>\n",
       "  </thead>\n",
       "  <tbody>\n",
       "    <tr>\n",
       "      <th>2000-01-01</th>\n",
       "      <td>105.0</td>\n",
       "    </tr>\n",
       "    <tr>\n",
       "      <th>2000-01-02</th>\n",
       "      <td>79.0</td>\n",
       "    </tr>\n",
       "    <tr>\n",
       "      <th>2000-01-03</th>\n",
       "      <td>99.0</td>\n",
       "    </tr>\n",
       "    <tr>\n",
       "      <th>2000-01-04</th>\n",
       "      <td>82.0</td>\n",
       "    </tr>\n",
       "    <tr>\n",
       "      <th>2000-01-05</th>\n",
       "      <td>43.0</td>\n",
       "    </tr>\n",
       "  </tbody>\n",
       "</table>\n",
       "</div>"
      ],
      "text/plain": [
       "            SO2 AQI\n",
       "Date               \n",
       "2000-01-01    105.0\n",
       "2000-01-02     79.0\n",
       "2000-01-03     99.0\n",
       "2000-01-04     82.0\n",
       "2000-01-05     43.0"
      ]
     },
     "metadata": {},
     "output_type": "display_data"
    }
   ],
   "source": [
    "display(O3.head(), CO.head(), NO2.head(), SO2.head())"
   ]
  },
  {
   "cell_type": "code",
   "execution_count": 6,
   "metadata": {
    "ExecuteTime": {
     "end_time": "2022-01-26T21:54:45.870689Z",
     "start_time": "2022-01-26T21:54:45.840444Z"
    },
    "scrolled": true
   },
   "outputs": [
    {
     "data": {
      "text/html": [
       "<div>\n",
       "<style scoped>\n",
       "    .dataframe tbody tr th:only-of-type {\n",
       "        vertical-align: middle;\n",
       "    }\n",
       "\n",
       "    .dataframe tbody tr th {\n",
       "        vertical-align: top;\n",
       "    }\n",
       "\n",
       "    .dataframe thead th {\n",
       "        text-align: right;\n",
       "    }\n",
       "</style>\n",
       "<table border=\"1\" class=\"dataframe\">\n",
       "  <thead>\n",
       "    <tr style=\"text-align: right;\">\n",
       "      <th></th>\n",
       "      <th>O3 AQI</th>\n",
       "      <th>CO AQI</th>\n",
       "      <th>NO2 AQI</th>\n",
       "      <th>SO2 AQI</th>\n",
       "    </tr>\n",
       "    <tr>\n",
       "      <th>Date</th>\n",
       "      <th></th>\n",
       "      <th></th>\n",
       "      <th></th>\n",
       "      <th></th>\n",
       "    </tr>\n",
       "  </thead>\n",
       "  <tbody>\n",
       "    <tr>\n",
       "      <th>2000-01-01</th>\n",
       "      <td>25</td>\n",
       "      <td>27.0</td>\n",
       "      <td>38</td>\n",
       "      <td>105.0</td>\n",
       "    </tr>\n",
       "    <tr>\n",
       "      <th>2000-01-02</th>\n",
       "      <td>38</td>\n",
       "      <td>36.0</td>\n",
       "      <td>54</td>\n",
       "      <td>79.0</td>\n",
       "    </tr>\n",
       "    <tr>\n",
       "      <th>2000-01-03</th>\n",
       "      <td>31</td>\n",
       "      <td>38.0</td>\n",
       "      <td>47</td>\n",
       "      <td>99.0</td>\n",
       "    </tr>\n",
       "    <tr>\n",
       "      <th>2000-01-04</th>\n",
       "      <td>29</td>\n",
       "      <td>33.0</td>\n",
       "      <td>52</td>\n",
       "      <td>82.0</td>\n",
       "    </tr>\n",
       "    <tr>\n",
       "      <th>2000-01-05</th>\n",
       "      <td>24</td>\n",
       "      <td>22.0</td>\n",
       "      <td>42</td>\n",
       "      <td>43.0</td>\n",
       "    </tr>\n",
       "    <tr>\n",
       "      <th>...</th>\n",
       "      <td>...</td>\n",
       "      <td>...</td>\n",
       "      <td>...</td>\n",
       "      <td>...</td>\n",
       "    </tr>\n",
       "    <tr>\n",
       "      <th>2021-09-26</th>\n",
       "      <td>38</td>\n",
       "      <td>6.0</td>\n",
       "      <td>26</td>\n",
       "      <td>0.0</td>\n",
       "    </tr>\n",
       "    <tr>\n",
       "      <th>2021-09-27</th>\n",
       "      <td>50</td>\n",
       "      <td>3.0</td>\n",
       "      <td>22</td>\n",
       "      <td>1.0</td>\n",
       "    </tr>\n",
       "    <tr>\n",
       "      <th>2021-09-28</th>\n",
       "      <td>27</td>\n",
       "      <td>3.0</td>\n",
       "      <td>26</td>\n",
       "      <td>1.0</td>\n",
       "    </tr>\n",
       "    <tr>\n",
       "      <th>2021-09-29</th>\n",
       "      <td>28</td>\n",
       "      <td>2.0</td>\n",
       "      <td>16</td>\n",
       "      <td>1.0</td>\n",
       "    </tr>\n",
       "    <tr>\n",
       "      <th>2021-09-30</th>\n",
       "      <td>18</td>\n",
       "      <td>2.0</td>\n",
       "      <td>17</td>\n",
       "      <td>0.0</td>\n",
       "    </tr>\n",
       "  </tbody>\n",
       "</table>\n",
       "<p>7944 rows × 4 columns</p>\n",
       "</div>"
      ],
      "text/plain": [
       "            O3 AQI  CO AQI  NO2 AQI  SO2 AQI\n",
       "Date                                        \n",
       "2000-01-01      25    27.0       38    105.0\n",
       "2000-01-02      38    36.0       54     79.0\n",
       "2000-01-03      31    38.0       47     99.0\n",
       "2000-01-04      29    33.0       52     82.0\n",
       "2000-01-05      24    22.0       42     43.0\n",
       "...            ...     ...      ...      ...\n",
       "2021-09-26      38     6.0       26      0.0\n",
       "2021-09-27      50     3.0       22      1.0\n",
       "2021-09-28      27     3.0       26      1.0\n",
       "2021-09-29      28     2.0       16      1.0\n",
       "2021-09-30      18     2.0       17      0.0\n",
       "\n",
       "[7944 rows x 4 columns]"
      ]
     },
     "execution_count": 6,
     "metadata": {},
     "output_type": "execute_result"
    }
   ],
   "source": [
    "df = pd.merge(O3, CO, how='inner', left_index=True, right_index=True)\n",
    "df = pd.merge(df, NO2, how='inner', left_index=True, right_index=True)\n",
    "df = pd.merge(df, SO2, how='inner', left_index=True, right_index=True)\n",
    "\n",
    "df"
   ]
  },
  {
   "cell_type": "code",
   "execution_count": 7,
   "metadata": {
    "ExecuteTime": {
     "end_time": "2022-01-26T21:54:50.128378Z",
     "start_time": "2022-01-26T21:54:50.080742Z"
    }
   },
   "outputs": [],
   "source": [
    "# Creating list of daily AQI per pollutant\n",
    "dailys = [df['O3 AQI'], df['CO AQI'], df['NO2 AQI'], df['SO2 AQI']]\n",
    "\n",
    "# Downsampling from days to months\n",
    "monthlyO3 = df.copy()['O3 AQI'].resample('M').mean()\n",
    "monthlyCO = df.copy()['CO AQI'].resample('M').mean()\n",
    "monthlyNO2 = df.copy()['NO2 AQI'].resample('M').mean()\n",
    "monthlySO2 = df.copy()['SO2 AQI'].resample('M').mean()\n",
    "\n",
    "# Creating list of monthly AQI per pollutant\n",
    "monthlys = [monthlyO3, monthlyCO, monthlyNO2, monthlySO2]"
   ]
  },
  {
   "cell_type": "code",
   "execution_count": 28,
   "metadata": {
    "ExecuteTime": {
     "end_time": "2022-01-26T22:11:06.185548Z",
     "start_time": "2022-01-26T22:11:05.643829Z"
    }
   },
   "outputs": [
    {
     "data": {
      "image/png": "[encoded data removed]",
      "text/plain": [
       "<Figure size 1440x432 with 1 Axes>"
      ]
     },
     "metadata": {
      "needs_background": "light"
     },
     "output_type": "display_data"
    }
   ],
   "source": [
    "# Plotting daily AQI\n",
    "\n",
    "for df in dailys:\n",
    "    df.plot(figsize=(20,6))\n",
    "    plt.title('Daily AQI')\n",
    "    plt.ylabel('AQI')\n",
    "    plt.legend();"
   ]
  },
  {
   "cell_type": "code",
   "execution_count": null,
   "metadata": {
    "ExecuteTime": {
     "end_time": "2022-01-26T21:26:35.215861Z",
     "start_time": "2022-01-26T21:26:34.666953Z"
    },
    "scrolled": true
   },
   "outputs": [],
   "source": [
    "# Plotting daily AQI\n",
    "for df in dailys:\n",
    "    df.plot(figsize=(20,6))\n",
    "    plt.title('Daily AQI')\n",
    "    plt.legend();"
   ]
  },
  {
   "cell_type": "code",
   "execution_count": null,
   "metadata": {
    "ExecuteTime": {
     "end_time": "2022-01-26T21:32:08.109984Z",
     "start_time": "2022-01-26T21:32:07.674680Z"
    },
    "scrolled": true
   },
   "outputs": [],
   "source": [
    "# Plotting monthly AQI\n",
    "for df in monthlys:\n",
    "    df.plot(figsize=(20,6))\n",
    "    plt.title('Monthly AQI', fontsize=24)\n",
    "    plt.xlabel('Date', fontsize=18)\n",
    "    plt.ylabel('AQI', fontsize=18)\n",
    "    plt.legend()\n",
    "    plt.tight_layout();"
   ]
  },
  {
   "cell_type": "code",
   "execution_count": null,
   "metadata": {
    "ExecuteTime": {
     "end_time": "2022-01-26T21:52:55.765994Z",
     "start_time": "2022-01-26T21:52:55.183500Z"
    }
   },
   "outputs": [],
   "source": [
    "# Plotting monthly AQI\n",
    "plt.plot(monthlys)\n",
    "plt.title('Monthly AQI', fontsize=24)\n",
    "plt.xlabel('Date', fontsize=18)\n",
    "plt.ylabel('AQI', fontsize=18)\n",
    "plt.grid(True)\n",
    "plt.tight_layout();"
   ]
  },
  {
   "cell_type": "code",
   "execution_count": null,
   "metadata": {
    "ExecuteTime": {
     "end_time": "2022-01-26T03:59:03.440406Z",
     "start_time": "2022-01-26T03:59:03.036456Z"
    }
   },
   "outputs": [],
   "source": [
    "# Log\n",
    "monthlyCO_log = np.log(monthlyCO)\n",
    "plt.plot(monthlyCO_log)\n",
    "test_stationarity(monthlyCO_log)"
   ]
  },
  {
   "cell_type": "code",
   "execution_count": null,
   "metadata": {
    "ExecuteTime": {
     "end_time": "2022-01-26T04:04:16.062357Z",
     "start_time": "2022-01-26T04:04:15.594427Z"
    }
   },
   "outputs": [],
   "source": [
    "# Moving average\n",
    "moving_avg = monthlyCO_log.rolling(window=12).mean()\n",
    "monthlyCO_log.plot(figsize=(22,2))\n",
    "moving_avg.plot(color='red')\n",
    "monthlyCO_log_moving_avg_diff = monthlyCO_log - moving_avg\n",
    "monthlyCO_log_moving_avg_diff.dropna(inplace=True)\n",
    "test_stationarity(monthlyCO_log_moving_avg_diff)"
   ]
  },
  {
   "cell_type": "code",
   "execution_count": null,
   "metadata": {
    "ExecuteTime": {
     "end_time": "2022-01-26T04:05:10.129555Z",
     "start_time": "2022-01-26T04:05:09.542864Z"
    }
   },
   "outputs": [],
   "source": [
    "# Eliminating Trend and Seasonality\n",
    "# First order differencing \n",
    "monthlyCO_log_diff = monthlyCO_log - monthlyCO_log.shift()\n",
    "plt.plot(monthlyCO_log_diff)\n",
    "monthlyCO_log_diff.dropna(inplace=True)\n",
    "test_stationarity(monthlyCO_log_diff)"
   ]
  },
  {
   "cell_type": "code",
   "execution_count": null,
   "metadata": {
    "ExecuteTime": {
     "end_time": "2022-01-26T04:06:02.643720Z",
     "start_time": "2022-01-26T04:06:01.725943Z"
    }
   },
   "outputs": [],
   "source": [
    "# Decomposing\n",
    "from statsmodels.tsa.seasonal import seasonal_decompose\n",
    "decomposition = seasonal_decompose(monthlyCO_log)\n",
    "\n",
    "trend = decomposition.trend\n",
    "seasonal = decomposition.seasonal\n",
    "residual = decomposition.resid\n",
    "\n",
    "plt.subplot(411)\n",
    "plt.plot(monthlyCO_log, label='Original')\n",
    "plt.legend(loc='best')\n",
    "plt.subplot(412)\n",
    "plt.plot(trend, label='Trend')\n",
    "plt.legend(loc='best')\n",
    "plt.subplot(413)\n",
    "plt.plot(seasonal,label='Seasonality')\n",
    "plt.legend(loc='best')\n",
    "plt.subplot(414)\n",
    "plt.plot(residual, label='Residuals')\n",
    "plt.legend(loc='best')\n",
    "plt.tight_layout()\n",
    "monthlyCO_log_decompose = residual\n",
    "monthlyCO_log_decompose.dropna(inplace=True)\n",
    "test_stationarity(monthlyCO_log_decompose)"
   ]
  },
  {
   "cell_type": "code",
   "execution_count": null,
   "metadata": {
    "ExecuteTime": {
     "end_time": "2022-01-26T04:06:59.028621Z",
     "start_time": "2022-01-26T04:06:59.019115Z"
    }
   },
   "outputs": [],
   "source": [
    "# ACF and PACF\n",
    "\n",
    "lag_acf = acf(monthlyCO_log_diff, nlags=20)\n",
    "lag_pacf = pacf(monthlyCO_log_diff, nlags=20, method='ols')"
   ]
  },
  {
   "cell_type": "code",
   "execution_count": null,
   "metadata": {
    "ExecuteTime": {
     "end_time": "2022-01-26T04:07:16.029316Z",
     "start_time": "2022-01-26T04:07:15.799224Z"
    }
   },
   "outputs": [],
   "source": [
    "#Plot ACF: \n",
    "plt.plot(lag_acf)\n",
    "plt.axhline(y=0,linestyle='--',color='gray')\n",
    "plt.axhline(y=-1.96/np.sqrt(len(monthlyCO_log_diff)),linestyle='--',color='gray')\n",
    "plt.axhline(y=1.96/np.sqrt(len(monthlyCO_log_diff)),linestyle='--',color='gray')\n",
    "plt.title('Autocorrelation Function')"
   ]
  },
  {
   "cell_type": "code",
   "execution_count": null,
   "metadata": {
    "ExecuteTime": {
     "end_time": "2022-01-26T04:07:28.135582Z",
     "start_time": "2022-01-26T04:07:27.907248Z"
    }
   },
   "outputs": [],
   "source": [
    "#Plot PACF:\n",
    "plt.plot(lag_pacf)\n",
    "plt.axhline(y=0,linestyle='--',color='gray')\n",
    "plt.axhline(y=-1.96/np.sqrt(len(monthlyCO_log_diff)),linestyle='--',color='gray')\n",
    "plt.axhline(y=1.96/np.sqrt(len(monthlyCO_log_diff)),linestyle='--',color='gray')\n",
    "plt.title('Partial Autocorrelation Function')\n",
    "plt.tight_layout()"
   ]
  },
  {
   "cell_type": "code",
   "execution_count": null,
   "metadata": {
    "ExecuteTime": {
     "end_time": "2022-01-26T04:07:59.712768Z",
     "start_time": "2022-01-26T04:07:59.705411Z"
    }
   },
   "outputs": [],
   "source": [
    "p = d = q = range(0, 2)\n",
    "pdq = list(itertools.product(p, d, q))"
   ]
  },
  {
   "cell_type": "code",
   "execution_count": null,
   "metadata": {
    "ExecuteTime": {
     "end_time": "2022-01-26T04:08:13.391572Z",
     "start_time": "2022-01-26T04:08:13.379524Z"
    }
   },
   "outputs": [],
   "source": [
    "# Generate all different combinations of seasonal p, q and q triplets\n",
    "seasonal_pdq = [(x[0], x[1], x[2],12) for x in list(itertools.product(p, d, q))]\n",
    "\n",
    "print('Examples of parameter combinations for Seasonal ARIMA...')\n",
    "print('SARIMAX: {} x {}'.format(pdq[1], seasonal_pdq[1]))\n",
    "print('SARIMAX: {} x {}'.format(pdq[1], seasonal_pdq[2]))\n",
    "print('SARIMAX: {} x {}'.format(pdq[2], seasonal_pdq[3]))\n",
    "print('SARIMAX: {} x {}'.format(pdq[2], seasonal_pdq[4]))"
   ]
  },
  {
   "cell_type": "code",
   "execution_count": null,
   "metadata": {
    "ExecuteTime": {
     "end_time": "2022-01-26T04:09:37.848057Z",
     "start_time": "2022-01-26T04:09:19.644306Z"
    },
    "scrolled": true
   },
   "outputs": [],
   "source": [
    "for param in pdq:\n",
    "    for param_seasonal in seasonal_pdq:\n",
    "        try:\n",
    "            mod = SARIMAX(monthlyCO_log,\n",
    "                          order=param,\n",
    "                          seasonal_order=param_seasonal,\n",
    "                          enforce_stationarity=False,\n",
    "                          enforce_invertibility=False)\n",
    "\n",
    "            results = mod.fit()\n",
    "\n",
    "            print('ARIMA{}x{}12 - AIC:{}'.format(param, param_seasonal, results.aic))\n",
    "        except:\n",
    "            continue\n",
    "        \n",
    "mod = SARIMAX(monthlyCO_log,\n",
    "              order=(1,0,1),\n",
    "              seasonal_order=(1, 0, 1, 12),\n",
    "              enforce_stationarity=False,\n",
    "              enforce_invertibility=False)\n",
    "\n",
    "results = mod.fit()\n",
    "\n",
    "print(results.summary().tables[1])\n",
    "\n",
    "results.plot_diagnostics(figsize=(15, 12))\n",
    "plt.show()"
   ]
  },
  {
   "cell_type": "code",
   "execution_count": null,
   "metadata": {
    "ExecuteTime": {
     "end_time": "2022-01-26T17:59:29.812578Z",
     "start_time": "2022-01-26T17:59:29.797561Z"
    }
   },
   "outputs": [],
   "source": [
    "monthlyO3_log = np.log(monthlyO3)\n",
    "monthlyNO2_log = np.log(monthlyNO2)\n",
    "monthlySO2_log = np.log(monthlySO2)"
   ]
  },
  {
   "cell_type": "code",
   "execution_count": null,
   "metadata": {
    "ExecuteTime": {
     "end_time": "2022-01-26T18:01:04.545082Z",
     "start_time": "2022-01-26T18:01:04.109166Z"
    }
   },
   "outputs": [],
   "source": [
    "pred = results.get_prediction(start=pd.to_datetime('2019-06-30 00:00:00'), dynamic=False)\n",
    "pred_ci = pred.conf_int()\n",
    "fig = plt.figure(figsize=(22,6))\n",
    "ax1 = monthlyO3_log['2000':].plot(label='Observed O3')\n",
    "ax2 = monthlyCO_log['2000':].plot(label='Observed CO')\n",
    "ax3 = monthlyNO2_log['2000':].plot(label='Observed NO2')\n",
    "ax4 = monthlySO2_log['2000':].plot(label='Observed SO2')\n",
    "pred.predicted_mean.plot(ax=ax1, label='One-step Ahead Forecast O3', alpha=.7)\n",
    "pred.predicted_mean.plot(ax=ax2, label='One-step Ahead Forecast CO', alpha=.7)\n",
    "pred.predicted_mean.plot(ax=ax3, label='One-step Ahead Forecast NO2', alpha=.7)\n",
    "pred.predicted_mean.plot(ax=ax4, label='One-step Ahead Forecast SO2', alpha=.7)\n",
    "\n",
    "ax.fill_between(pred_ci.index,\n",
    "                pred_ci.iloc[:, 0],\n",
    "                pred_ci.iloc[:, 1], color='k', alpha=.2)\n",
    "\n",
    "ax.set_xlabel('Date')\n",
    "ax.set_ylabel('AQI')\n",
    "plt.legend()\n",
    "plt.show()"
   ]
  },
  {
   "cell_type": "code",
   "execution_count": null,
   "metadata": {
    "ExecuteTime": {
     "end_time": "2022-01-26T18:03:19.061402Z",
     "start_time": "2022-01-26T18:03:18.763381Z"
    }
   },
   "outputs": [],
   "source": [
    "pred = results.get_prediction(start=pd.to_datetime('2019-06-30 00:00:00'), dynamic=False)\n",
    "pred_ci = pred.conf_int()\n",
    "fig = plt.figure(figsize=(22,6))\n",
    "ax = monthlyO3_log['2000':].plot(label='Observed O3')\n",
    "pred.predicted_mean.plot(ax=ax, label='One-step Ahead Forecast O3', alpha=.7)\n",
    "\n",
    "ax.fill_between(pred_ci.index,\n",
    "                pred_ci.iloc[:, 0],\n",
    "                pred_ci.iloc[:, 1], color='k', alpha=.2)\n",
    "\n",
    "ax.set_xlabel('Date')\n",
    "ax.set_ylabel('AQI')\n",
    "plt.legend()\n",
    "plt.show()"
   ]
  },
  {
   "cell_type": "code",
   "execution_count": null,
   "metadata": {
    "ExecuteTime": {
     "end_time": "2022-01-26T17:57:22.703033Z",
     "start_time": "2022-01-26T17:57:22.334783Z"
    }
   },
   "outputs": [],
   "source": [
    "pred = results.get_prediction(start=pd.to_datetime('2019-06-30 00:00:00'), dynamic=False)\n",
    "pred_ci = pred.conf_int()\n",
    "fig = plt.figure(figsize=(22,6))\n",
    "ax = monthlyCO_log['2000':].plot(label='Observed')\n",
    "pred.predicted_mean.plot(ax=ax, label='One-step Ahead Forecast', alpha=.7)\n",
    "\n",
    "ax.fill_between(pred_ci.index,\n",
    "                pred_ci.iloc[:, 0],\n",
    "                pred_ci.iloc[:, 1], color='k', alpha=.2)\n",
    "\n",
    "ax.set_xlabel('Date')\n",
    "ax.set_ylabel('CO AQI Levels')\n",
    "plt.legend()\n",
    "plt.show()"
   ]
  },
  {
   "cell_type": "code",
   "execution_count": null,
   "metadata": {
    "ExecuteTime": {
     "end_time": "2022-01-26T17:57:26.350118Z",
     "start_time": "2022-01-26T17:57:26.337209Z"
    }
   },
   "outputs": [],
   "source": [
    "monthlyCO_forecasted = np.exp(pred.predicted_mean)\n",
    "monthlyCO_truth = np.exp(monthlyCO_log['2015-06-30 00:00:00':])\n",
    "\n",
    "# Compute the mean square error\n",
    "mse =( (monthlyCO_forecasted - monthlyCO_truth) ** 2).mean()\n",
    "print('The Mean Squared Error of our forecasts is {}'.format(round(mse, 2)))\n",
    "print('The RMSE of our forecasts is {}'.format(round(np.sqrt(mse), 2)))"
   ]
  },
  {
   "cell_type": "code",
   "execution_count": null,
   "metadata": {
    "ExecuteTime": {
     "end_time": "2022-01-26T17:57:33.214537Z",
     "start_time": "2022-01-26T17:57:33.203462Z"
    }
   },
   "outputs": [],
   "source": [
    "def MASE(training_series, testing_series, prediction_series):\n",
    "    \"\"\"\n",
    "    Computes the MEAN-ABSOLUTE SCALED ERROR forcast error for univariate time series prediction.\n",
    "    \n",
    "    See \"Another look at measures of forecast accuracy\", Rob J Hyndman\n",
    "    \n",
    "    parameters:\n",
    "        training_series: the series used to train the model, 1d numpy array\n",
    "        testing_series: the test series to predict, 1d numpy array or float\n",
    "        prediction_series: the prediction of testing_series, 1d numpy array (same size as testing_series) or float\n",
    "        absolute: \"squares\" to use sum of squares and root the result, \"absolute\" to use absolute values.\n",
    "    \n",
    "    \"\"\"\n",
    "    n = training_series.shape[0]\n",
    "    d = np.abs(  np.diff( training_series) ).sum()/(n-1)\n",
    "    \n",
    "    errors = np.abs(testing_series - prediction_series )\n",
    "    return errors.mean()/d"
   ]
  },
  {
   "cell_type": "code",
   "execution_count": null,
   "metadata": {
    "ExecuteTime": {
     "end_time": "2022-01-26T17:57:33.523953Z",
     "start_time": "2022-01-26T17:57:33.509692Z"
    }
   },
   "outputs": [],
   "source": [
    "MASE(monthlyCO_truth, monthlyCO_truth, monthlyCO_forecasted)"
   ]
  },
  {
   "cell_type": "code",
   "execution_count": null,
   "metadata": {
    "ExecuteTime": {
     "end_time": "2022-01-26T17:43:36.630153Z",
     "start_time": "2022-01-26T17:43:36.191073Z"
    }
   },
   "outputs": [],
   "source": [
    "pred_dynamic = results.get_prediction(start=pd.to_datetime('2015-06-30 00:00:00'), dynamic=True, full_results=True)\n",
    "pred_dynamic_ci = pred_dynamic.conf_int()\n",
    "\n",
    "ax = monthlyCO_log['2000':].plot(label='Observed', figsize=(20, 6))\n",
    "pred_dynamic.predicted_mean.plot(label='Dynamic Forecast', ax=ax)\n",
    "\n",
    "ax.fill_between(pred_dynamic_ci.index,\n",
    "                pred_dynamic_ci.iloc[:, 0],\n",
    "                pred_dynamic_ci.iloc[:, 1], color='k', alpha=.25)\n",
    "\n",
    "ax.fill_betweenx(ax.get_ylim(), pd.to_datetime('2015-06-30 00:00:00'), monthlyCO_log.index[-1],\n",
    "                 alpha=.1, zorder=-1)\n",
    "\n",
    "ax.set_xlabel('Date')\n",
    "ax.set_ylabel('CO AQI')\n",
    "\n",
    "plt.legend()\n",
    "plt.show()"
   ]
  },
  {
   "cell_type": "code",
   "execution_count": null,
   "metadata": {
    "ExecuteTime": {
     "end_time": "2022-01-26T17:43:37.150436Z",
     "start_time": "2022-01-26T17:43:37.138978Z"
    }
   },
   "outputs": [],
   "source": [
    "# Extract the predicted and true values of our time series\n",
    "monthlyCO_forecasted = np.exp(pred_dynamic.predicted_mean)\n",
    "monthlyCO_truth = np.exp(monthlyCO_log['1998-01-01':])\n",
    "\n",
    "# Compute the mean square error\n",
    "mse = ((monthlyCO_forecasted - monthlyCO_truth) ** 2).mean()\n",
    "print('The Mean Squared Error of our forecasts is {}'.format(round(mse, 2)))\n",
    "print('The RMSE of our forecasts is {}'.format(round(np.sqrt(mse), 2)))"
   ]
  },
  {
   "cell_type": "code",
   "execution_count": null,
   "metadata": {
    "ExecuteTime": {
     "end_time": "2022-01-26T17:43:37.989929Z",
     "start_time": "2022-01-26T17:43:37.980825Z"
    }
   },
   "outputs": [],
   "source": [
    "MASE(monthlyCO_truth, monthlyCO_truth, monthlyCO_forecasted)"
   ]
  },
  {
   "cell_type": "code",
   "execution_count": null,
   "metadata": {
    "ExecuteTime": {
     "end_time": "2022-01-26T17:43:47.099295Z",
     "start_time": "2022-01-26T17:43:46.758285Z"
    }
   },
   "outputs": [],
   "source": [
    "# Get forecast 500 steps ahead in future\n",
    "pred_uc = results.get_forecast(steps=12)\n",
    "\n",
    "# Get confidence intervals of forecasts\n",
    "pred_ci = pred_uc.conf_int()\n",
    "\n",
    "ax = monthlyCO_log.plot(label='Observed', figsize=(20, 6))\n",
    "pred_uc.predicted_mean.plot(ax=ax, label='Forecast')\n",
    "ax.fill_between(pred_ci.index,\n",
    "                pred_ci.iloc[:, 0],\n",
    "                pred_ci.iloc[:, 1], color='k', alpha=.25)\n",
    "ax.set_xlabel('Date')\n",
    "ax.set_ylabel('CO AQI')\n",
    "\n",
    "plt.legend()\n",
    "plt.show()\n",
    "\n",
    "\n",
    "np.exp(pred_uc.predicted_mean)"
   ]
  },
  {
   "cell_type": "code",
   "execution_count": null,
   "metadata": {},
   "outputs": [],
   "source": []
  },
  {
   "cell_type": "code",
   "execution_count": null,
   "metadata": {},
   "outputs": [],
   "source": []
  },
  {
   "cell_type": "code",
   "execution_count": null,
   "metadata": {},
   "outputs": [],
   "source": []
  },
  {
   "cell_type": "code",
   "execution_count": null,
   "metadata": {},
   "outputs": [],
   "source": []
  },
  {
   "cell_type": "code",
   "execution_count": null,
   "metadata": {},
   "outputs": [],
   "source": []
  },
  {
   "cell_type": "code",
   "execution_count": null,
   "metadata": {},
   "outputs": [],
   "source": []
  },
  {
   "cell_type": "code",
   "execution_count": null,
   "metadata": {},
   "outputs": [],
   "source": []
  },
  {
   "cell_type": "code",
   "execution_count": null,
   "metadata": {
    "ExecuteTime": {
     "end_time": "2022-01-26T03:57:26.049660Z",
     "start_time": "2022-01-26T03:57:25.971049Z"
    }
   },
   "outputs": [],
   "source": []
  },
  {
   "cell_type": "code",
   "execution_count": null,
   "metadata": {
    "ExecuteTime": {
     "end_time": "2022-01-25T16:53:20.863899Z",
     "start_time": "2022-01-25T16:53:19.543825Z"
    }
   },
   "outputs": [],
   "source": [
    "for df in dflist:\n",
    "    df.plot(figsize=(24,2), linewidth=.5, color='#6acfbf');"
   ]
  },
  {
   "cell_type": "code",
   "execution_count": null,
   "metadata": {
    "ExecuteTime": {
     "end_time": "2022-01-25T16:55:17.773990Z",
     "start_time": "2022-01-25T16:55:16.643857Z"
    },
    "scrolled": true
   },
   "outputs": [],
   "source": [
    "for df in dflist:\n",
    "    df.plot(figsize=(24,2), style='.', ms=2, color='#6acfbf');"
   ]
  },
  {
   "cell_type": "code",
   "execution_count": null,
   "metadata": {
    "ExecuteTime": {
     "end_time": "2022-01-25T17:54:14.283981Z",
     "start_time": "2022-01-25T17:54:12.850998Z"
    },
    "scrolled": true
   },
   "outputs": [],
   "source": [
    "# Determine rolling statistics with a window of 12 months\n",
    "for df in dflist:\n",
    "    rmean = df.rolling(window=12, center=False).mean()\n",
    "    rstd = df.rolling(window=12, center=False).mean()\n",
    "\n",
    "# Plot rolling statistics against original\n",
    "for df in dflist:\n",
    "    fig = plt.figure(figsize=(20,2))\n",
    "    plt.plot(df, color='#a6a6a6', label='Original')\n",
    "    plt.plot(rmean, color='blue', linewidth=3, label='Rolling Mean')\n",
    "    plt.plot(rstd, color='magenta', linewidth=1, label='Rolling Std')\n",
    "    plt.title('Rolling Mean & Standard Deviation')\n",
    "    plt.legend();"
   ]
  },
  {
   "cell_type": "code",
   "execution_count": null,
   "metadata": {
    "ExecuteTime": {
     "end_time": "2022-01-25T18:07:47.473321Z",
     "start_time": "2022-01-25T18:07:47.464888Z"
    }
   },
   "outputs": [],
   "source": [
    "# Function to check stationarity\n",
    "def stationarity_check(ts, name):\n",
    "    \"\"\"\n",
    "    Check stationarity of time series with rolling statistics and Dickey-Fuller test.\n",
    "    \"\"\"\n",
    "    rmean = ts.rolling(window=12, center=False).mean()\n",
    "    rstd = ts.rolling(window=12, center=False).std()\n",
    "    dftest = adfuller(ts.iloc[:,0])\n",
    "    \n",
    "    # Plot rolling statistics against original\n",
    "    fig = plt.figure(figsize=(20,4))\n",
    "    plt.plot(ts, color='gray', label='Original')\n",
    "    plt.plot(rmean, color='blue', label='Rolling Mean')\n",
    "    plt.plot(rstd, color='magenta', label='Rolling Std')\n",
    "    plt.title(f'Rolling Mean & Standard Deviation ({name})')\n",
    "    plt.legend(loc='best')\n",
    "    plt.show(block=False)\n",
    "    \n",
    "    # Print Dickey-Fuller test results\n",
    "    print('Results of Dickey-Fuller Test: \\n')\n",
    "\n",
    "    dfoutput = pd.Series(dftest[0:4], index=['Test Statistic', 'p-value', \n",
    "                                             '# of Lags Used', '# of Observations Used'])\n",
    "    for key,value in dftest[4].items():\n",
    "        dfoutput['Critical Value (%s)'%key] = value\n",
    "    print(dfoutput)\n",
    "    \n",
    "    return None"
   ]
  },
  {
   "cell_type": "code",
   "execution_count": null,
   "metadata": {
    "ExecuteTime": {
     "end_time": "2022-01-25T18:05:36.638916Z",
     "start_time": "2022-01-25T18:05:36.632065Z"
    }
   },
   "outputs": [],
   "source": [
    "dfliststr = ['O3', 'CO', 'NO2', 'SO2']"
   ]
  },
  {
   "cell_type": "code",
   "execution_count": null,
   "metadata": {
    "ExecuteTime": {
     "end_time": "2022-01-25T18:07:51.977234Z",
     "start_time": "2022-01-25T18:07:48.543549Z"
    },
    "scrolled": true
   },
   "outputs": [],
   "source": [
    "i=0\n",
    "for df in dflist:\n",
    "    stationarity_check(df, dfliststr[i])\n",
    "    i+=1"
   ]
  },
  {
   "cell_type": "code",
   "execution_count": null,
   "metadata": {
    "ExecuteTime": {
     "end_time": "2022-01-25T22:52:16.607146Z",
     "start_time": "2022-01-25T22:52:16.597205Z"
    }
   },
   "outputs": [],
   "source": [
    "def decomposition_plot(ts):\n",
    "        '''\n",
    "        Takes time series dataframe and decomposes it\n",
    "        in order to observe trend, seasonality, and residuals\n",
    "        '''\n",
    "        decomp = seasonal_decompose(ts, period=8, model='additive')\n",
    "        trend = decomp.trend\n",
    "        seasonal = decomp.seasonal\n",
    "        residual = decomp.resid\n",
    "        plt.figure(figsize=(10,7))\n",
    "        plt.subplot(511)\n",
    "        plt.plot(ts, label='Observed', color='red')\n",
    "        plt.legend(loc='best')\n",
    "        plt.subplot(512)\n",
    "        plt.plot(trend, label='Trend', color='blue')\n",
    "        plt.legend(loc='best')\n",
    "        plt.subplot(513)\n",
    "        plt.plot(seasonal, label='Seasonality', color='orange')\n",
    "        plt.legend(loc='best')\n",
    "        plt.subplot(514)\n",
    "        plt.plot(residual, label='Residuals', color='black')\n",
    "        plt.legend(loc='best')\n",
    "        plt.tight_layout()\n",
    "        \n",
    "        return decomp"
   ]
  },
  {
   "cell_type": "code",
   "execution_count": null,
   "metadata": {
    "ExecuteTime": {
     "end_time": "2022-01-25T22:52:20.948133Z",
     "start_time": "2022-01-25T22:52:17.244125Z"
    },
    "scrolled": true
   },
   "outputs": [],
   "source": [
    "for df in dflist:\n",
    "    decomposition_plot(df)"
   ]
  },
  {
   "cell_type": "code",
   "execution_count": null,
   "metadata": {
    "ExecuteTime": {
     "end_time": "2022-01-26T03:21:09.462238Z",
     "start_time": "2022-01-26T03:21:09.452508Z"
    }
   },
   "outputs": [],
   "source": [
    "def ARMA_model(df, pollutant):\n",
    "\n",
    "    y = df[f'{pollutant} AQI']\n",
    "    \n",
    "    aic_scores = []\n",
    "\n",
    "    train_size = [len(y),500,250,100,50]\n",
    "\n",
    "    for p in range(6):\n",
    "        for q in range(6):\n",
    "            for size in train_size:\n",
    "                model = ARIMA(endog = y.tail(size), order =(p,0,q))\n",
    "                fitmodel = model.fit()\n",
    "                rmse = np.sqrt(mse(fitmodel))\n",
    "                aic_scores.append(pd.DataFrame(['ARMA', size, (p,0,q), fitmodel.aic, rmse]).T)\n",
    "                    \n",
    "    arma_df = pd.concat(aic_scores, axis = 0)\n",
    "    arma_df.set_axis(['model type', 'train_size', 'order', 'AIC', 'RMSE'], axis = 1, inplace = True)\n",
    "    return_df = arma_df.sort_values(['train_size','RMSE'], ascending = [False,True]).reset_index(drop = True)\n",
    "    \n",
    "    return return_df"
   ]
  },
  {
   "cell_type": "code",
   "execution_count": null,
   "metadata": {
    "ExecuteTime": {
     "end_time": "2022-01-26T03:21:10.015064Z",
     "start_time": "2022-01-26T03:21:09.954457Z"
    },
    "scrolled": true
   },
   "outputs": [],
   "source": [
    "arma = ARMA_model(O3, 'O3')"
   ]
  },
  {
   "cell_type": "code",
   "execution_count": null,
   "metadata": {
    "ExecuteTime": {
     "end_time": "2022-01-26T03:26:27.983637Z",
     "start_time": "2022-01-26T03:26:27.810097Z"
    }
   },
   "outputs": [],
   "source": [
    "mod_arma = ARMA(O3, order=(1,0), freq='D')\n",
    "O3_arma = mod_arma.fit()\n",
    "O3_arma.mse"
   ]
  },
  {
   "cell_type": "code",
   "execution_count": null,
   "metadata": {},
   "outputs": [],
   "source": [
    "\n",
    "\n",
    "\n",
    "\n",
    "\n",
    "\n",
    "\n",
    "\n",
    "\n",
    "\n",
    "\n",
    "\n",
    "\n",
    "\n",
    "\n",
    "\n",
    "\n",
    "\n"
   ]
  },
  {
   "cell_type": "code",
   "execution_count": null,
   "metadata": {
    "ExecuteTime": {
     "end_time": "2022-01-25T18:25:39.168889Z",
     "start_time": "2022-01-25T18:25:39.031238Z"
    }
   },
   "outputs": [],
   "source": [
    "# mod_arma = ARMA(O3, order=(1,0), freq='D')\n",
    "# O3_arma = mod_arma.fit()\n",
    "# print(O3_arma.summary())\n",
    "\n",
    "# mod_arma = ARMA(O3, order=(0,1), freq='D')\n",
    "# O3_arma = mod_arma.fit()\n",
    "# print(O3_arma.summary())\n",
    "\n",
    "# mod_arma = ARMA(O3, order=(2,0), freq='D')\n",
    "# O3_arma = mod_arma.fit()\n",
    "# print(O3_arma.summary())\n",
    "\n",
    "# mod_arma = ARMA(O3, order=(0,2), freq='D')\n",
    "# O3_arma = mod_arma.fit()\n",
    "# print(O3_arma.summary())\n",
    "\n",
    "# mod_arma = ARMA(O3, order=(2,1), freq='D')\n",
    "# O3_arma = mod_arma.fit()\n",
    "# print(O3_arma.summary())\n",
    "\n",
    "# mod_arma = ARMA(O3, order=(1,2), freq='D')\n",
    "# O3_arma = mod_arma.fit()\n",
    "# print(O3_arma.summary())\n",
    "\n",
    "# mod_arma = ARMA(O3, order=(2,2), freq='D')\n",
    "# O3_arma = mod_arma.fit()\n",
    "# print(O3_arma.summary())\n",
    "\n",
    "# mod_arima = ARIMA(O3, order=(1,1,1), freq='D')\n",
    "# O3_arima = mod_arima.fit()\n",
    "# print(O3_arima.summary())\n",
    "\n",
    "# mod_sarimax = SARIMAX(O3, order=(1,1,1), freq='D')\n",
    "# O3_sarimax = mod_sarimax.fit()\n",
    "# print(O3_sarimax.summary())"
   ]
  }
 ],
 "metadata": {
  "kernelspec": {
   "display_name": "Python (learn-env)",
   "language": "python",
   "name": "learn-env"
  },
  "language_info": {
   "codemirror_mode": {
    "name": "ipython",
    "version": 3
   },
   "file_extension": ".py",
   "mimetype": "text/x-python",
   "name": "python",
   "nbconvert_exporter": "python",
   "pygments_lexer": "ipython3",
   "version": "3.8.5"
  }
 },
 "nbformat": 4,
 "nbformat_minor": 4
}
